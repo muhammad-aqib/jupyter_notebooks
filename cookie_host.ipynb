{
 "cells": [
  {
   "cell_type": "code",
   "execution_count": 2,
   "metadata": {},
   "outputs": [],
   "source": [
    "import tldextract\n",
    "import pandas as pd\n",
    "import warnings\n",
    "warnings.filterwarnings('ignore')\n",
    "\n",
    "\n",
    "foundri_vendors = pd.read_csv('/Users/muhammadaqib/Documents/repos/privaci-rating/data_export/data/population/common/foundri_vendor_cookies.csv')\n",
    "\n"
   ]
  },
  {
   "cell_type": "code",
   "execution_count": 3,
   "metadata": {},
   "outputs": [
    {
     "name": "stdout",
     "output_type": "stream",
     "text": [
      "ExtractResult(subdomain='forums.news', domain='cnn', suffix='com')\n",
      "forums.news\n"
     ]
    }
   ],
   "source": [
    "print(tldextract.extract('http://forums.news.cnn.com/'))\n",
    "print(tldextract.extract('http://forums.news.cnn.com/').subdomain)"
   ]
  },
  {
   "cell_type": "code",
   "execution_count": 4,
   "metadata": {},
   "outputs": [
    {
     "data": {
      "text/plain": [
       "902293"
      ]
     },
     "execution_count": 4,
     "metadata": {},
     "output_type": "execute_result"
    }
   ],
   "source": [
    "filtered_data = foundri_vendors[['cookie_name','cookie_host','description','category']]\n",
    "len(filtered_data)"
   ]
  },
  {
   "cell_type": "code",
   "execution_count": 5,
   "metadata": {},
   "outputs": [],
   "source": [
    "# dropping ALL duplicte values \n",
    "filtered_data.drop_duplicates(subset =\"cookie_host\", keep = False, inplace = True) "
   ]
  },
  {
   "cell_type": "code",
   "execution_count": 6,
   "metadata": {},
   "outputs": [
    {
     "data": {
      "text/plain": [
       "74987"
      ]
     },
     "execution_count": 6,
     "metadata": {},
     "output_type": "execute_result"
    }
   ],
   "source": [
    "len(filtered_data)"
   ]
  },
  {
   "cell_type": "code",
   "execution_count": 7,
   "metadata": {},
   "outputs": [
    {
     "data": {
      "text/html": [
       "<div>\n",
       "<style scoped>\n",
       "    .dataframe tbody tr th:only-of-type {\n",
       "        vertical-align: middle;\n",
       "    }\n",
       "\n",
       "    .dataframe tbody tr th {\n",
       "        vertical-align: top;\n",
       "    }\n",
       "\n",
       "    .dataframe thead th {\n",
       "        text-align: right;\n",
       "    }\n",
       "</style>\n",
       "<table border=\"1\" class=\"dataframe\">\n",
       "  <thead>\n",
       "    <tr style=\"text-align: right;\">\n",
       "      <th></th>\n",
       "      <th>cookie_name</th>\n",
       "      <th>cookie_host</th>\n",
       "    </tr>\n",
       "  </thead>\n",
       "  <tbody>\n",
       "    <tr>\n",
       "      <th>5</th>\n",
       "      <td>lang</td>\n",
       "      <td>twimg.com</td>\n",
       "    </tr>\n",
       "    <tr>\n",
       "      <th>41</th>\n",
       "      <td>ASP.NET_SessionID</td>\n",
       "      <td>dducollegedu.ac.in</td>\n",
       "    </tr>\n",
       "    <tr>\n",
       "      <th>134</th>\n",
       "      <td>UUID</td>\n",
       "      <td>aj1559.online</td>\n",
       "    </tr>\n",
       "    <tr>\n",
       "      <th>222</th>\n",
       "      <td>_BUID</td>\n",
       "      <td>bizibly.com</td>\n",
       "    </tr>\n",
       "    <tr>\n",
       "      <th>560</th>\n",
       "      <td>_SESSION</td>\n",
       "      <td>dcrypto.com</td>\n",
       "    </tr>\n",
       "    <tr>\n",
       "      <th>...</th>\n",
       "      <td>...</td>\n",
       "      <td>...</td>\n",
       "    </tr>\n",
       "    <tr>\n",
       "      <th>902105</th>\n",
       "      <td>BL_NGX</td>\n",
       "      <td>.bl.</td>\n",
       "    </tr>\n",
       "    <tr>\n",
       "      <th>902205</th>\n",
       "      <td>Bidoomy-Cookie</td>\n",
       "      <td>unimedpoa.com.br</td>\n",
       "    </tr>\n",
       "    <tr>\n",
       "      <th>902209</th>\n",
       "      <td>FASID</td>\n",
       "      <td>movidazerokm.com.br</td>\n",
       "    </tr>\n",
       "    <tr>\n",
       "      <th>902214</th>\n",
       "      <td>owner</td>\n",
       "      <td>seminovosmovida.com.br</td>\n",
       "    </tr>\n",
       "    <tr>\n",
       "      <th>902242</th>\n",
       "      <td>BIGipServerPool-wt-80</td>\n",
       "      <td>washingtontechnology.com</td>\n",
       "    </tr>\n",
       "  </tbody>\n",
       "</table>\n",
       "<p>74987 rows × 2 columns</p>\n",
       "</div>"
      ],
      "text/plain": [
       "                  cookie_name               cookie_host\n",
       "5                        lang                 twimg.com\n",
       "41          ASP.NET_SessionID        dducollegedu.ac.in\n",
       "134                      UUID             aj1559.online\n",
       "222                     _BUID               bizibly.com\n",
       "560                  _SESSION               dcrypto.com\n",
       "...                       ...                       ...\n",
       "902105                 BL_NGX                      .bl.\n",
       "902205         Bidoomy-Cookie          unimedpoa.com.br\n",
       "902209                  FASID       movidazerokm.com.br\n",
       "902214                  owner    seminovosmovida.com.br\n",
       "902242  BIGipServerPool-wt-80  washingtontechnology.com\n",
       "\n",
       "[74987 rows x 2 columns]"
      ]
     },
     "execution_count": 7,
     "metadata": {},
     "output_type": "execute_result"
    }
   ],
   "source": [
    "filtered_data[['cookie_name','cookie_host']]"
   ]
  },
  {
   "cell_type": "code",
   "execution_count": 8,
   "metadata": {},
   "outputs": [
    {
     "data": {
      "text/plain": [
       "pandas.core.frame.DataFrame"
      ]
     },
     "execution_count": 8,
     "metadata": {},
     "output_type": "execute_result"
    }
   ],
   "source": [
    "type(filtered_data)"
   ]
  },
  {
   "cell_type": "code",
   "execution_count": 9,
   "metadata": {},
   "outputs": [],
   "source": [
    "subdomains_list=[]\n",
    "domains_list=[]\n",
    "suffix_list=[]\n",
    "\n",
    "for index, row in filtered_data.iterrows():\n",
    "    subdomains_list.append(tldextract.extract(row['cookie_host']).subdomain)\n",
    "    domains_list.append(tldextract.extract(row['cookie_host']).domain)\n",
    "    suffix_list.append(tldextract.extract(row['cookie_host']).suffix)\n",
    "    \n",
    "filtered_data['subdomains'] = subdomains_list\n",
    "filtered_data['domains'] = domains_list\n",
    "filtered_data['suffixs'] = suffix_list\n",
    "    "
   ]
  },
  {
   "cell_type": "code",
   "execution_count": 10,
   "metadata": {},
   "outputs": [
    {
     "data": {
      "text/html": [
       "<div>\n",
       "<style scoped>\n",
       "    .dataframe tbody tr th:only-of-type {\n",
       "        vertical-align: middle;\n",
       "    }\n",
       "\n",
       "    .dataframe tbody tr th {\n",
       "        vertical-align: top;\n",
       "    }\n",
       "\n",
       "    .dataframe thead th {\n",
       "        text-align: right;\n",
       "    }\n",
       "</style>\n",
       "<table border=\"1\" class=\"dataframe\">\n",
       "  <thead>\n",
       "    <tr style=\"text-align: right;\">\n",
       "      <th></th>\n",
       "      <th>cookie_name</th>\n",
       "      <th>cookie_host</th>\n",
       "      <th>description</th>\n",
       "      <th>category</th>\n",
       "      <th>subdomains</th>\n",
       "      <th>domains</th>\n",
       "      <th>suffixs</th>\n",
       "    </tr>\n",
       "  </thead>\n",
       "  <tbody>\n",
       "    <tr>\n",
       "      <th>5</th>\n",
       "      <td>lang</td>\n",
       "      <td>twimg.com</td>\n",
       "      <td>This is an advertising cookie from LinkedIn. L...</td>\n",
       "      <td>Advertising</td>\n",
       "      <td></td>\n",
       "      <td>twimg</td>\n",
       "      <td>com</td>\n",
       "    </tr>\n",
       "    <tr>\n",
       "      <th>41</th>\n",
       "      <td>ASP.NET_SessionID</td>\n",
       "      <td>dducollegedu.ac.in</td>\n",
       "      <td>ASP.Net_SessionId is a cookie which is used to...</td>\n",
       "      <td>Performance &amp; Functionality</td>\n",
       "      <td></td>\n",
       "      <td>dducollegedu</td>\n",
       "      <td>ac.in</td>\n",
       "    </tr>\n",
       "    <tr>\n",
       "      <th>134</th>\n",
       "      <td>UUID</td>\n",
       "      <td>aj1559.online</td>\n",
       "      <td>NaN</td>\n",
       "      <td>Advertising</td>\n",
       "      <td></td>\n",
       "      <td>aj1559</td>\n",
       "      <td>online</td>\n",
       "    </tr>\n",
       "    <tr>\n",
       "      <th>222</th>\n",
       "      <td>_BUID</td>\n",
       "      <td>bizibly.com</td>\n",
       "      <td>NaN</td>\n",
       "      <td>Performance &amp; Functionality</td>\n",
       "      <td></td>\n",
       "      <td>bizibly</td>\n",
       "      <td>com</td>\n",
       "    </tr>\n",
       "    <tr>\n",
       "      <th>560</th>\n",
       "      <td>_SESSION</td>\n",
       "      <td>dcrypto.com</td>\n",
       "      <td>This cookie speeds up your experience on our w...</td>\n",
       "      <td>Performance &amp; Functionality</td>\n",
       "      <td></td>\n",
       "      <td>dcrypto</td>\n",
       "      <td>com</td>\n",
       "    </tr>\n",
       "  </tbody>\n",
       "</table>\n",
       "</div>"
      ],
      "text/plain": [
       "           cookie_name         cookie_host  \\\n",
       "5                 lang           twimg.com   \n",
       "41   ASP.NET_SessionID  dducollegedu.ac.in   \n",
       "134               UUID       aj1559.online   \n",
       "222              _BUID         bizibly.com   \n",
       "560           _SESSION         dcrypto.com   \n",
       "\n",
       "                                           description  \\\n",
       "5    This is an advertising cookie from LinkedIn. L...   \n",
       "41   ASP.Net_SessionId is a cookie which is used to...   \n",
       "134                                                NaN   \n",
       "222                                                NaN   \n",
       "560  This cookie speeds up your experience on our w...   \n",
       "\n",
       "                        category subdomains       domains suffixs  \n",
       "5                    Advertising                    twimg     com  \n",
       "41   Performance & Functionality             dducollegedu   ac.in  \n",
       "134                  Advertising                   aj1559  online  \n",
       "222  Performance & Functionality                  bizibly     com  \n",
       "560  Performance & Functionality                  dcrypto     com  "
      ]
     },
     "execution_count": 10,
     "metadata": {},
     "output_type": "execute_result"
    }
   ],
   "source": [
    "filtered_data.head()"
   ]
  },
  {
   "cell_type": "code",
   "execution_count": 11,
   "metadata": {},
   "outputs": [],
   "source": [
    "empty_suffix=filtered_data[filtered_data['suffixs'] == '']\n",
    "empty_suffix.to_csv('empty_suffix.csv')"
   ]
  },
  {
   "cell_type": "code",
   "execution_count": null,
   "metadata": {},
   "outputs": [],
   "source": []
  },
  {
   "cell_type": "code",
   "execution_count": 12,
   "metadata": {},
   "outputs": [],
   "source": [
    "foundri_vendors = pd.read_csv('/Users/muhammadaqib/Documents/repos/privaci-rating/data_export/data/population/common/foundri_vendor_cookies.csv')\n"
   ]
  },
  {
   "cell_type": "code",
   "execution_count": 13,
   "metadata": {},
   "outputs": [
    {
     "data": {
      "text/html": [
       "<div>\n",
       "<style scoped>\n",
       "    .dataframe tbody tr th:only-of-type {\n",
       "        vertical-align: middle;\n",
       "    }\n",
       "\n",
       "    .dataframe tbody tr th {\n",
       "        vertical-align: top;\n",
       "    }\n",
       "\n",
       "    .dataframe thead th {\n",
       "        text-align: right;\n",
       "    }\n",
       "</style>\n",
       "<table border=\"1\" class=\"dataframe\">\n",
       "  <thead>\n",
       "    <tr style=\"text-align: right;\">\n",
       "      <th></th>\n",
       "      <th>site_name</th>\n",
       "      <th>host</th>\n",
       "      <th>cookie_name</th>\n",
       "      <th>cookie_host</th>\n",
       "      <th>is_first_party</th>\n",
       "      <th>path</th>\n",
       "      <th>expiry</th>\n",
       "      <th>category</th>\n",
       "      <th>is_http_only</th>\n",
       "      <th>is_session_cookie</th>\n",
       "      <th>...</th>\n",
       "      <th>description</th>\n",
       "      <th>data_location</th>\n",
       "      <th>source_url</th>\n",
       "      <th>type</th>\n",
       "      <th>subcategory</th>\n",
       "      <th>is_regex</th>\n",
       "      <th>country</th>\n",
       "      <th>service</th>\n",
       "      <th>policy_url</th>\n",
       "      <th>display_name</th>\n",
       "    </tr>\n",
       "  </thead>\n",
       "  <tbody>\n",
       "    <tr>\n",
       "      <th>424442</th>\n",
       "      <td>NaN</td>\n",
       "      <td>NaN</td>\n",
       "      <td>cms_id</td>\n",
       "      <td>.www.bl.</td>\n",
       "      <td>NaN</td>\n",
       "      <td>NaN</td>\n",
       "      <td>1.599178e+09</td>\n",
       "      <td>Essential</td>\n",
       "      <td>NaN</td>\n",
       "      <td>NaN</td>\n",
       "      <td>...</td>\n",
       "      <td>NaN</td>\n",
       "      <td>NaN</td>\n",
       "      <td>NaN</td>\n",
       "      <td>http_cookie</td>\n",
       "      <td>NaN</td>\n",
       "      <td>False</td>\n",
       "      <td>NaN</td>\n",
       "      <td>Bl</td>\n",
       "      <td>NaN</td>\n",
       "      <td>NaN</td>\n",
       "    </tr>\n",
       "    <tr>\n",
       "      <th>654244</th>\n",
       "      <td>NaN</td>\n",
       "      <td>group.trubyhilton.com</td>\n",
       "      <td>_bl_login_panel</td>\n",
       "      <td>.bl.ink</td>\n",
       "      <td>False</td>\n",
       "      <td>NaN</td>\n",
       "      <td>1.764045e+09</td>\n",
       "      <td>Unknown</td>\n",
       "      <td>False</td>\n",
       "      <td>False</td>\n",
       "      <td>...</td>\n",
       "      <td>NaN</td>\n",
       "      <td>NaN</td>\n",
       "      <td>NaN</td>\n",
       "      <td>http_cookie</td>\n",
       "      <td>NaN</td>\n",
       "      <td>False</td>\n",
       "      <td>NaN</td>\n",
       "      <td>NaN</td>\n",
       "      <td>NaN</td>\n",
       "      <td>NaN</td>\n",
       "    </tr>\n",
       "    <tr>\n",
       "      <th>660975</th>\n",
       "      <td>NaN</td>\n",
       "      <td>group.trubyhilton.com</td>\n",
       "      <td>BLSession</td>\n",
       "      <td>hilton.bl.ink</td>\n",
       "      <td>True</td>\n",
       "      <td>NaN</td>\n",
       "      <td>1.608870e+09</td>\n",
       "      <td>Unknown</td>\n",
       "      <td>True</td>\n",
       "      <td>False</td>\n",
       "      <td>...</td>\n",
       "      <td>NaN</td>\n",
       "      <td>NaN</td>\n",
       "      <td>NaN</td>\n",
       "      <td>http_cookie</td>\n",
       "      <td>NaN</td>\n",
       "      <td>False</td>\n",
       "      <td>NaN</td>\n",
       "      <td>NaN</td>\n",
       "      <td>NaN</td>\n",
       "      <td>NaN</td>\n",
       "    </tr>\n",
       "    <tr>\n",
       "      <th>902105</th>\n",
       "      <td>NaN</td>\n",
       "      <td>NaN</td>\n",
       "      <td>BL_NGX</td>\n",
       "      <td>.bl.</td>\n",
       "      <td>False</td>\n",
       "      <td>NaN</td>\n",
       "      <td>1.599264e+09</td>\n",
       "      <td>Unknown</td>\n",
       "      <td>NaN</td>\n",
       "      <td>NaN</td>\n",
       "      <td>...</td>\n",
       "      <td>Unknown</td>\n",
       "      <td>NaN</td>\n",
       "      <td>NaN</td>\n",
       "      <td>http_cookie</td>\n",
       "      <td>NaN</td>\n",
       "      <td>NaN</td>\n",
       "      <td>NaN</td>\n",
       "      <td>NaN</td>\n",
       "      <td>NaN</td>\n",
       "      <td>NaN</td>\n",
       "    </tr>\n",
       "  </tbody>\n",
       "</table>\n",
       "<p>4 rows × 21 columns</p>\n",
       "</div>"
      ],
      "text/plain": [
       "       site_name                   host      cookie_name    cookie_host  \\\n",
       "424442       NaN                    NaN           cms_id       .www.bl.   \n",
       "654244       NaN  group.trubyhilton.com  _bl_login_panel        .bl.ink   \n",
       "660975       NaN  group.trubyhilton.com        BLSession  hilton.bl.ink   \n",
       "902105       NaN                    NaN           BL_NGX           .bl.   \n",
       "\n",
       "       is_first_party path        expiry   category is_http_only  \\\n",
       "424442            NaN  NaN  1.599178e+09  Essential          NaN   \n",
       "654244          False  NaN  1.764045e+09    Unknown        False   \n",
       "660975           True  NaN  1.608870e+09    Unknown         True   \n",
       "902105          False  NaN  1.599264e+09    Unknown          NaN   \n",
       "\n",
       "       is_session_cookie  ... description data_location  source_url  \\\n",
       "424442               NaN  ...         NaN           NaN         NaN   \n",
       "654244             False  ...         NaN           NaN         NaN   \n",
       "660975             False  ...         NaN           NaN         NaN   \n",
       "902105               NaN  ...     Unknown           NaN         NaN   \n",
       "\n",
       "               type subcategory is_regex country service policy_url  \\\n",
       "424442  http_cookie         NaN    False     NaN      Bl        NaN   \n",
       "654244  http_cookie         NaN    False     NaN     NaN        NaN   \n",
       "660975  http_cookie         NaN    False     NaN     NaN        NaN   \n",
       "902105  http_cookie         NaN      NaN     NaN     NaN        NaN   \n",
       "\n",
       "       display_name  \n",
       "424442          NaN  \n",
       "654244          NaN  \n",
       "660975          NaN  \n",
       "902105          NaN  \n",
       "\n",
       "[4 rows x 21 columns]"
      ]
     },
     "execution_count": 13,
     "metadata": {},
     "output_type": "execute_result"
    }
   ],
   "source": [
    "foundri_vendors[foundri_vendors['cookie_host'].str.contains('.bl.',regex=False)]\n"
   ]
  },
  {
   "cell_type": "code",
   "execution_count": 14,
   "metadata": {},
   "outputs": [
    {
     "data": {
      "text/plain": [
       "Index(['site_name', 'host', 'cookie_name', 'cookie_host', 'is_first_party',\n",
       "       'path', 'expiry', 'category', 'is_http_only', 'is_session_cookie',\n",
       "       'is_secure', 'description', 'data_location', 'source_url', 'type',\n",
       "       'subcategory', 'is_regex', 'country', 'service', 'policy_url',\n",
       "       'display_name'],\n",
       "      dtype='object')"
      ]
     },
     "execution_count": 14,
     "metadata": {},
     "output_type": "execute_result"
    }
   ],
   "source": [
    "foundri_vendors.columns"
   ]
  },
  {
   "cell_type": "code",
   "execution_count": null,
   "metadata": {},
   "outputs": [],
   "source": []
  }
 ],
 "metadata": {
  "kernelspec": {
   "display_name": "Python 3",
   "language": "python",
   "name": "python3"
  },
  "language_info": {
   "codemirror_mode": {
    "name": "ipython",
    "version": 3
   },
   "file_extension": ".py",
   "mimetype": "text/x-python",
   "name": "python",
   "nbconvert_exporter": "python",
   "pygments_lexer": "ipython3",
   "version": "3.8.5"
  }
 },
 "nbformat": 4,
 "nbformat_minor": 4
}
