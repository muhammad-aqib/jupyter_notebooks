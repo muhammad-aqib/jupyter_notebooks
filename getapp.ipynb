{
 "cells": [
  {
   "cell_type": "code",
   "execution_count": null,
   "metadata": {},
   "outputs": [],
   "source": [
    "from selenium import webdriver\n",
    "from bs4 import BeautifulSoup\n",
    "import pandas as pd\n",
    "from csv import writer\n",
    "\n",
    "from selenium.webdriver.chrome.options import Options\n",
    "chrome_options = Options()\n",
    "chrome_options.add_argument(\"--headless\")\n"
   ]
  },
  {
   "cell_type": "code",
   "execution_count": null,
   "metadata": {},
   "outputs": [],
   "source": [
    "page_url = 'https://www.getapp.com'\n",
    "all_the_apps = []"
   ]
  },
  {
   "cell_type": "code",
   "execution_count": null,
   "metadata": {},
   "outputs": [],
   "source": [
    "driver = webdriver.Chrome('/Users/muhammadaqib/Downloads/chromedriver',options=chrome_options)\n",
    "driver.get(page_url)"
   ]
  },
  {
   "cell_type": "code",
   "execution_count": null,
   "metadata": {},
   "outputs": [],
   "source": [
    "soup = BeautifulSoup(driver.page_source,'lxml')"
   ]
  },
  {
   "cell_type": "code",
   "execution_count": null,
   "metadata": {},
   "outputs": [],
   "source": [
    "all_software_by_categories = soup.find('div',{'class':'container pb-4 mb-5 d-none d-lg-block'})"
   ]
  },
  {
   "cell_type": "code",
   "execution_count": null,
   "metadata": {},
   "outputs": [],
   "source": [
    "categories = all_software_by_categories.find_all('div',{'class':'col-12 col-lg-6 categories-breakdown-col'})"
   ]
  },
  {
   "cell_type": "code",
   "execution_count": null,
   "metadata": {},
   "outputs": [],
   "source": [
    "category_list=[]\n",
    "for category in categories:\n",
    "    for item in category.find_all('div',{'class':'row no-gutters'}):\n",
    "        category_list.append(item)\n"
   ]
  },
  {
   "cell_type": "code",
   "execution_count": null,
   "metadata": {},
   "outputs": [],
   "source": [
    "len(category_list)"
   ]
  },
  {
   "cell_type": "code",
   "execution_count": null,
   "metadata": {},
   "outputs": [],
   "source": [
    "final_list = []\n",
    "\n",
    "for item in category_list:\n",
    "    for iterate in item.find_all('div',{'class':'d-flex align-items-center mb-2 pb-1 categories-breakdown-category'}):\n",
    "        final_list.append([item.find('a').text,\n",
    "                          page_url + iterate.find('a')['href']])"
   ]
  },
  {
   "cell_type": "code",
   "execution_count": null,
   "metadata": {},
   "outputs": [],
   "source": [
    "print(len(final_list))\n",
    "print(final_list[-1])\n",
    "\n",
    "# page***** https://www.getapp.com/retail-consumer-services-software/ipad-pos/page-2\n",
    "#page***** https://www.getapp.com/transportation-logistics-software/courier/page-1\n",
    "#page***** https://www.getapp.com/website-ecommerce-software/mobile-credit-card-processing/page-1\n",
    "\n"
   ]
  },
  {
   "cell_type": "markdown",
   "metadata": {},
   "source": [
    "## FINAL APPROACH"
   ]
  },
  {
   "cell_type": "code",
   "execution_count": null,
   "metadata": {},
   "outputs": [],
   "source": [
    "for single_item in final_list[777:]:\n",
    "    driver.get(single_item[1])\n",
    "    soup = BeautifulSoup(driver.page_source,'lxml')\n",
    "    \n",
    "    try:\n",
    "        page_num = int(soup.find('a',{'class':'pagination-item d-flex justify-content-center align-items-center ml-3 evnt'})['href'].split('/')[-2].split('-')[1]) + 1\n",
    "    except:\n",
    "        page_num = 2\n",
    "    \n",
    "    for i in range(1,page_num):\n",
    "        \n",
    "        url = single_item[1] + 'page-' + str(i)\n",
    "        print('page*****',url)\n",
    "        driver.get(url)\n",
    "        soup = BeautifulSoup(driver.page_source,'lxml')\n",
    "    \n",
    "        apps_on_page = soup.find('div',{'class':'serp-listings'}).find_all('div','listing')\n",
    "        for single_app in apps_on_page:\n",
    "            driver.get(page_url + single_app.find('a','serp-read-more')['href'])\n",
    "            soup = BeautifulSoup(driver.page_source,'lxml')\n",
    "\n",
    "            try:\n",
    "                app_name = soup.find('h2',{'class':'cut'}).text\n",
    "            except:\n",
    "                app_name=''\n",
    "\n",
    "            app_category = single_item[0]\n",
    "            \n",
    "            try:\n",
    "                check_div = soup.find('div',{'class':'col-lg-8 col-md-8'})\n",
    "                \n",
    "                if(check_div.find('span',{'class':'text-muted'})):\n",
    "                    domain = check_div.find('span',{'class':'text-muted'}).text.strip()\n",
    "                else:\n",
    "                    domain = check_div.find('a',{'class':'text-muted'}).text.strip()\n",
    "\n",
    "            except:\n",
    "                domain=''\n",
    "\n",
    "            try:\n",
    "                description = soup.find('div',{'itemprop':'description'}).text.strip()\n",
    "            except:\n",
    "                description = soup.find('div',{'class':'col-lg-10 col-md-10 col-sm-10 col-xs-9 listing-overview'}).find('p').text.strip()\n",
    "\n",
    "            try:\n",
    "                business_sizes = soup.find('div',{'class':'business-sizes'})\n",
    "                item_business_size=[]\n",
    "                for b_size in business_sizes:\n",
    "                    if 'active' in b_size['class']:\n",
    "                        item_business_size.append(b_size['title'])\n",
    "                item_business_size = ' '.join(item_business_size).strip()\n",
    "\n",
    "            except:\n",
    "                item_business_size=''\n",
    "\n",
    "            try:\n",
    "                market = soup.find_all('div',{'style':'font-size:14px;'})[0].text.strip()\n",
    "            except:\n",
    "                market = ''\n",
    "\n",
    "            try:\n",
    "                lang = soup.find_all('div',{'style':'font-size:14px;'})[1].text.strip()\n",
    "            except:\n",
    "                lang = ''\n",
    "            try:\n",
    "                ratings = soup.find('div','review-summary-rating').text.strip()\n",
    "            except:\n",
    "                ratings = ''\n",
    "\n",
    "            item = ['getapp',app_name,app_category,domain,description,item_business_size,market,lang,ratings]\n",
    "            print(item)\n",
    "            with open('/Users/muhammadaqib/Documents/getapp1.csv', 'a') as f_object: \n",
    "                \n",
    "                writer_object = writer(f_object) \n",
    "                writer_object.writerow(item) \n",
    "            \n",
    "            all_the_apps.append(item)\n",
    "            print(len(all_the_apps))\n",
    "\n",
    "\n",
    "driver.close()\n"
   ]
  },
  {
   "cell_type": "code",
   "execution_count": null,
   "metadata": {},
   "outputs": [],
   "source": []
  },
  {
   "cell_type": "code",
   "execution_count": null,
   "metadata": {},
   "outputs": [],
   "source": []
  },
  {
   "cell_type": "code",
   "execution_count": null,
   "metadata": {},
   "outputs": [],
   "source": [
    "demo_check"
   ]
  },
  {
   "cell_type": "code",
   "execution_count": null,
   "metadata": {},
   "outputs": [],
   "source": [
    "driver.get(demo_check)\n",
    "soup = BeautifulSoup(driver.page_source,'lxml')"
   ]
  },
  {
   "cell_type": "code",
   "execution_count": null,
   "metadata": {},
   "outputs": [],
   "source": [
    "apps_on_page = soup.find('div',{'class':'serp-listings'}).find_all('div','listing')\n",
    "app_page_url = page_url + apps_on_page[0].find('a','serp-read-more')['href']"
   ]
  },
  {
   "cell_type": "code",
   "execution_count": null,
   "metadata": {},
   "outputs": [],
   "source": [
    "app_page_url"
   ]
  },
  {
   "cell_type": "code",
   "execution_count": null,
   "metadata": {},
   "outputs": [],
   "source": [
    "driver.get(app_page_url)\n",
    "soup = BeautifulSoup(driver.page_source,'lxml')"
   ]
  },
  {
   "cell_type": "code",
   "execution_count": null,
   "metadata": {},
   "outputs": [],
   "source": [
    "try:\n",
    "    app_name = soup.find('h2',{'class':'cut'}).text\n",
    "except:\n",
    "    app_name=''\n",
    "app_category = final_list[0][0]"
   ]
  },
  {
   "cell_type": "code",
   "execution_count": null,
   "metadata": {},
   "outputs": [],
   "source": [
    "app_category"
   ]
  },
  {
   "cell_type": "code",
   "execution_count": null,
   "metadata": {},
   "outputs": [],
   "source": [
    "description = soup.find('div',{'itemprop':'description'}).text.strip()"
   ]
  },
  {
   "cell_type": "code",
   "execution_count": null,
   "metadata": {},
   "outputs": [],
   "source": [
    "description"
   ]
  },
  {
   "cell_type": "code",
   "execution_count": null,
   "metadata": {},
   "outputs": [],
   "source": [
    "business_sizes = soup.find('div',{'class':'business-sizes'})"
   ]
  },
  {
   "cell_type": "code",
   "execution_count": null,
   "metadata": {},
   "outputs": [],
   "source": [
    "item_business_size=[]\n",
    "for b_size in business_sizes:\n",
    "    if 'active' in b_size['class']:\n",
    "        item_business_size.append(b_size['title'])\n",
    "print(' '.join(item_business_size).strip())\n",
    "        \n"
   ]
  },
  {
   "cell_type": "code",
   "execution_count": null,
   "metadata": {},
   "outputs": [],
   "source": [
    "item_business_size"
   ]
  },
  {
   "cell_type": "code",
   "execution_count": null,
   "metadata": {},
   "outputs": [],
   "source": [
    "market = soup.find_all('div',{'style':'font-size:14px;'})[0].text.strip()\n",
    "lang = soup.find_all('div',{'style':'font-size:14px;'})[1].text.strip()\n",
    "soup.find('div','review-summary-rating').text"
   ]
  },
  {
   "cell_type": "code",
   "execution_count": null,
   "metadata": {},
   "outputs": [],
   "source": [
    "market"
   ]
  },
  {
   "cell_type": "code",
   "execution_count": null,
   "metadata": {},
   "outputs": [],
   "source": [
    "lang"
   ]
  },
  {
   "cell_type": "code",
   "execution_count": null,
   "metadata": {},
   "outputs": [],
   "source": [
    "soup.find('div','review-summary-rating').text"
   ]
  },
  {
   "cell_type": "code",
   "execution_count": null,
   "metadata": {},
   "outputs": [],
   "source": [
    "import csv\n",
    "\n",
    "with open('/Users/muhammadaqib/Documents/getapp1.csv', mode='w') as csv_file:\n",
    "    fieldnames = ['saas_dir','app_name','app_category','domain','description','item_business_size','market','lang','ratings']\n",
    "    writer = csv.DictWriter(csv_file, fieldnames=fieldnames)\n",
    "\n",
    "    writer.writeheader()\n",
    "    \n"
   ]
  },
  {
   "cell_type": "code",
   "execution_count": null,
   "metadata": {},
   "outputs": [],
   "source": []
  },
  {
   "cell_type": "code",
   "execution_count": null,
   "metadata": {},
   "outputs": [],
   "source": []
  }
 ],
 "metadata": {
  "kernelspec": {
   "display_name": "Python 3",
   "language": "python",
   "name": "python3"
  },
  "language_info": {
   "codemirror_mode": {
    "name": "ipython",
    "version": 3
   },
   "file_extension": ".py",
   "mimetype": "text/x-python",
   "name": "python",
   "nbconvert_exporter": "python",
   "pygments_lexer": "ipython3",
   "version": "3.8.5"
  }
 },
 "nbformat": 4,
 "nbformat_minor": 4
}
