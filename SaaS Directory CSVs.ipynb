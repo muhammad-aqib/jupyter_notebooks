{
 "cells": [
  {
   "cell_type": "markdown",
   "metadata": {},
   "source": [
    "### Imports"
   ]
  },
  {
   "cell_type": "code",
   "execution_count": 2,
   "metadata": {},
   "outputs": [],
   "source": [
    "import pandas as pd\n",
    "import json"
   ]
  },
  {
   "cell_type": "markdown",
   "metadata": {},
   "source": [
    "### Read File"
   ]
  },
  {
   "cell_type": "code",
   "execution_count": 71,
   "metadata": {},
   "outputs": [
    {
     "data": {
      "text/plain": [
       "Index(['Unnamed: 0', 'saas_directory', 'app_name', 'url'], dtype='object')"
      ]
     },
     "execution_count": 71,
     "metadata": {},
     "output_type": "execute_result"
    }
   ],
   "source": [
    "#Read file\n",
    "file_path='/Users/muhammadaqib/Documents/scraping_work/scrap_directories/scrap_directory.csv'\n",
    "scraped_directory = pd.read_csv(file_path)\n",
    "scraped_directory.columns"
   ]
  },
  {
   "cell_type": "markdown",
   "metadata": {},
   "source": [
    "### Notebook Work"
   ]
  },
  {
   "cell_type": "code",
   "execution_count": 65,
   "metadata": {},
   "outputs": [],
   "source": [
    "#remove a column\n",
    "scraped_directory = scraped_directory.drop(['Unnamed: 0'], axis=1)"
   ]
  },
  {
   "cell_type": "code",
   "execution_count": 66,
   "metadata": {},
   "outputs": [
    {
     "data": {
      "text/html": [
       "<div>\n",
       "<style scoped>\n",
       "    .dataframe tbody tr th:only-of-type {\n",
       "        vertical-align: middle;\n",
       "    }\n",
       "\n",
       "    .dataframe tbody tr th {\n",
       "        vertical-align: top;\n",
       "    }\n",
       "\n",
       "    .dataframe thead th {\n",
       "        text-align: right;\n",
       "    }\n",
       "</style>\n",
       "<table border=\"1\" class=\"dataframe\">\n",
       "  <thead>\n",
       "    <tr style=\"text-align: right;\">\n",
       "      <th></th>\n",
       "      <th>saas_directory</th>\n",
       "      <th>app_name</th>\n",
       "      <th>url</th>\n",
       "    </tr>\n",
       "  </thead>\n",
       "  <tbody>\n",
       "    <tr>\n",
       "      <th>23998</th>\n",
       "      <td>launchingnext</td>\n",
       "      <td>BAFTA: Home of the British Academy of Film and...</td>\n",
       "      <td>http://www.bafta.org</td>\n",
       "    </tr>\n",
       "    <tr>\n",
       "      <th>23999</th>\n",
       "      <td>launchingnext</td>\n",
       "      <td>Home of CELLS alive!</td>\n",
       "      <td>http://www.cellsalive.com</td>\n",
       "    </tr>\n",
       "    <tr>\n",
       "      <th>24000</th>\n",
       "      <td>launchingnext</td>\n",
       "      <td>Network Computing</td>\n",
       "      <td>http://www.networkcomputing.com</td>\n",
       "    </tr>\n",
       "    <tr>\n",
       "      <th>24001</th>\n",
       "      <td>launchingnext</td>\n",
       "      <td>International education - The International Ba...</td>\n",
       "      <td>http://www.ibo.org</td>\n",
       "    </tr>\n",
       "    <tr>\n",
       "      <th>24002</th>\n",
       "      <td>launchingnext</td>\n",
       "      <td>BabyCenter - Community</td>\n",
       "      <td>http://community.babycenter.com</td>\n",
       "    </tr>\n",
       "  </tbody>\n",
       "</table>\n",
       "</div>"
      ],
      "text/plain": [
       "      saas_directory                                           app_name  \\\n",
       "23998  launchingnext  BAFTA: Home of the British Academy of Film and...   \n",
       "23999  launchingnext                               Home of CELLS alive!   \n",
       "24000  launchingnext                                  Network Computing   \n",
       "24001  launchingnext  International education - The International Ba...   \n",
       "24002  launchingnext                             BabyCenter - Community   \n",
       "\n",
       "                                   url  \n",
       "23998             http://www.bafta.org  \n",
       "23999        http://www.cellsalive.com  \n",
       "24000  http://www.networkcomputing.com  \n",
       "24001               http://www.ibo.org  \n",
       "24002  http://community.babycenter.com  "
      ]
     },
     "execution_count": 66,
     "metadata": {},
     "output_type": "execute_result"
    }
   ],
   "source": [
    "scraped_directory.tail()"
   ]
  },
  {
   "cell_type": "code",
   "execution_count": 67,
   "metadata": {},
   "outputs": [],
   "source": [
    "#Fetch dataframe with removed duplicates from app_name column.\n",
    "scraped_directory=scraped_directory.drop_duplicates(subset='app_name', keep=\"first\")"
   ]
  },
  {
   "cell_type": "code",
   "execution_count": 68,
   "metadata": {},
   "outputs": [
    {
     "name": "stdout",
     "output_type": "stream",
     "text": [
      "<class 'pandas.core.series.Series'>\n"
     ]
    },
    {
     "data": {
      "text/plain": [
       "22899"
      ]
     },
     "execution_count": 68,
     "metadata": {},
     "output_type": "execute_result"
    }
   ],
   "source": [
    "#Verify duplicates have been removed\n",
    "print(type(scraped_directory['app_name']))\n",
    "len(scraped_directory['app_name'].unique())"
   ]
  },
  {
   "cell_type": "markdown",
   "metadata": {},
   "source": [
    "### Write File"
   ]
  },
  {
   "cell_type": "code",
   "execution_count": 69,
   "metadata": {},
   "outputs": [],
   "source": [
    "#Keep index false, to prevent default indexing.\n",
    "scraped_directory.to_csv('/Users/muhammadaqib/Documents/scraping_work/scrap_directories/launchingtext_saas_directory.csv',index=False)"
   ]
  },
  {
   "cell_type": "markdown",
   "metadata": {},
   "source": [
    "### Convert CSV to Dictionary"
   ]
  },
  {
   "cell_type": "code",
   "execution_count": 5,
   "metadata": {},
   "outputs": [
    {
     "data": {
      "text/html": [
       "<div>\n",
       "<style scoped>\n",
       "    .dataframe tbody tr th:only-of-type {\n",
       "        vertical-align: middle;\n",
       "    }\n",
       "\n",
       "    .dataframe tbody tr th {\n",
       "        vertical-align: top;\n",
       "    }\n",
       "\n",
       "    .dataframe thead th {\n",
       "        text-align: right;\n",
       "    }\n",
       "</style>\n",
       "<table border=\"1\" class=\"dataframe\">\n",
       "  <thead>\n",
       "    <tr style=\"text-align: right;\">\n",
       "      <th></th>\n",
       "      <th>app_name</th>\n",
       "      <th>url</th>\n",
       "    </tr>\n",
       "  </thead>\n",
       "  <tbody>\n",
       "    <tr>\n",
       "      <th>0</th>\n",
       "      <td>Prevue.ly</td>\n",
       "      <td>https://prevue.ly/</td>\n",
       "    </tr>\n",
       "    <tr>\n",
       "      <th>1</th>\n",
       "      <td>Launch 2021</td>\n",
       "      <td>https://www.launch2021.co/</td>\n",
       "    </tr>\n",
       "    <tr>\n",
       "      <th>2</th>\n",
       "      <td>Unipack Notion Templates</td>\n",
       "      <td>https://unipack.app/</td>\n",
       "    </tr>\n",
       "    <tr>\n",
       "      <th>3</th>\n",
       "      <td>Runaway Calculator</td>\n",
       "      <td>https://runaway.sawirstudio.com/</td>\n",
       "    </tr>\n",
       "    <tr>\n",
       "      <th>4</th>\n",
       "      <td>Chestry for iOS</td>\n",
       "      <td>https://apps.apple.com/de/app/chestry/id154239...</td>\n",
       "    </tr>\n",
       "  </tbody>\n",
       "</table>\n",
       "</div>"
      ],
      "text/plain": [
       "                   app_name                                                url\n",
       "0                 Prevue.ly                                 https://prevue.ly/\n",
       "1               Launch 2021                         https://www.launch2021.co/\n",
       "2  Unipack Notion Templates                               https://unipack.app/\n",
       "3        Runaway Calculator                   https://runaway.sawirstudio.com/\n",
       "4           Chestry for iOS  https://apps.apple.com/de/app/chestry/id154239..."
      ]
     },
     "execution_count": 5,
     "metadata": {},
     "output_type": "execute_result"
    }
   ],
   "source": [
    "col_list=['app_name','url']\n",
    "launching_next_csv = pd.read_csv('/Users/muhammadaqib/Documents/scraping_work/scrap_directories/launchingtext/launchingtext_saas_directory.csv', usecols=col_list)\n",
    "launching_next_csv.head()"
   ]
  },
  {
   "cell_type": "code",
   "execution_count": 18,
   "metadata": {},
   "outputs": [
    {
     "name": "stdout",
     "output_type": "stream",
     "text": [
      "\n",
      "99\n"
     ]
    }
   ],
   "source": [
    "#convert dataframe to python dictionary\n",
    "dictionary=launching_next_csv.to_dict('list')\n",
    "\n",
    "#extract columns\n",
    "url_list=dictionary['url']\n",
    "app_list=dictionary['app_name']\n",
    "\n",
    "#create dictionary from column list.\n",
    "# app_url_dict=dict(zip(url_list, app_list))\n",
    "\n",
    "\n",
    "chunks = int(len(url_list)/100)\n",
    "\n",
    "\n",
    "for i in range(chunks):\n",
    "    chunk_dict={}\n",
    "    for j in range(100):\n",
    "        chunk_dict[url_list[j]] = app_list[j]\n",
    "        url_list.remove(url_list[j])\n",
    "        app_list.remove(app_list[j])\n",
    "    \n",
    "    with open('/Users/muhammadaqib/Documents/scraping_work/scrap_directories/launchingtext_saas_directory'+str(i)+'.json', 'w') as f:\n",
    "        json.dump(chunk_dict, f)\n",
    "\n",
    "\n",
    "\n",
    "print()\n",
    "print(len(app_list))"
   ]
  },
  {
   "cell_type": "markdown",
   "metadata": {},
   "source": [
    "### Write to JSON File"
   ]
  },
  {
   "cell_type": "code",
   "execution_count": 28,
   "metadata": {},
   "outputs": [],
   "source": [
    "with open('/Users/muhammadaqib/Documents/scraping_work/scrap_directories/launchingtext_saas_directory.json', 'w') as f:\n",
    "    json.dump(app_url_dict, f)"
   ]
  },
  {
   "cell_type": "code",
   "execution_count": 38,
   "metadata": {},
   "outputs": [
    {
     "data": {
      "text/plain": [
       "Index(['saas_directory', 'app_name', 'url'], dtype='object')"
      ]
     },
     "execution_count": 38,
     "metadata": {},
     "output_type": "execute_result"
    }
   ],
   "source": [
    "#Read file\n",
    "file_path='/Users/muhammadaqib/Documents/scraping_work/scrap_directories/boogarlist.csv'\n",
    "scraped_directory = pd.read_csv(file_path)\n",
    "scraped_directory.columns"
   ]
  },
  {
   "cell_type": "code",
   "execution_count": 39,
   "metadata": {},
   "outputs": [
    {
     "data": {
      "text/html": [
       "<div>\n",
       "<style scoped>\n",
       "    .dataframe tbody tr th:only-of-type {\n",
       "        vertical-align: middle;\n",
       "    }\n",
       "\n",
       "    .dataframe tbody tr th {\n",
       "        vertical-align: top;\n",
       "    }\n",
       "\n",
       "    .dataframe thead th {\n",
       "        text-align: right;\n",
       "    }\n",
       "</style>\n",
       "<table border=\"1\" class=\"dataframe\">\n",
       "  <thead>\n",
       "    <tr style=\"text-align: right;\">\n",
       "      <th></th>\n",
       "      <th>saas_directory</th>\n",
       "      <th>app_name</th>\n",
       "      <th>url</th>\n",
       "    </tr>\n",
       "  </thead>\n",
       "  <tbody>\n",
       "    <tr>\n",
       "      <th>0</th>\n",
       "      <td>boogarlist</td>\n",
       "      <td>3G Americas (3GA)</td>\n",
       "      <td>http://www.3gamericas.org/</td>\n",
       "    </tr>\n",
       "    <tr>\n",
       "      <th>1</th>\n",
       "      <td>boogarlist</td>\n",
       "      <td>3rd Generation Partnership Project 2 (3GPP2)</td>\n",
       "      <td>http://www.3gpp2.org/</td>\n",
       "    </tr>\n",
       "    <tr>\n",
       "      <th>2</th>\n",
       "      <td>boogarlist</td>\n",
       "      <td>1394 Trade Association</td>\n",
       "      <td>http://www.1394ta.org</td>\n",
       "    </tr>\n",
       "    <tr>\n",
       "      <th>3</th>\n",
       "      <td>boogarlist</td>\n",
       "      <td>Alpha \\n\\t\\t\\t\\t\\t\\t\\t\\t\\t\\t\\t(-Acad-)</td>\n",
       "      <td>alpha_a.htm</td>\n",
       "    </tr>\n",
       "    <tr>\n",
       "      <th>4</th>\n",
       "      <td>boogarlist</td>\n",
       "      <td>Academy of Interactive Arts &amp; Sciences (AIAS)</td>\n",
       "      <td>http://www.interactive.org/</td>\n",
       "    </tr>\n",
       "  </tbody>\n",
       "</table>\n",
       "</div>"
      ],
      "text/plain": [
       "  saas_directory                                       app_name  \\\n",
       "0     boogarlist                              3G Americas (3GA)   \n",
       "1     boogarlist   3rd Generation Partnership Project 2 (3GPP2)   \n",
       "2     boogarlist                         1394 Trade Association   \n",
       "3     boogarlist         Alpha \\n\\t\\t\\t\\t\\t\\t\\t\\t\\t\\t\\t(-Acad-)   \n",
       "4     boogarlist  Academy of Interactive Arts & Sciences (AIAS)   \n",
       "\n",
       "                           url  \n",
       "0   http://www.3gamericas.org/  \n",
       "1        http://www.3gpp2.org/  \n",
       "2        http://www.1394ta.org  \n",
       "3                  alpha_a.htm  \n",
       "4  http://www.interactive.org/  "
      ]
     },
     "execution_count": 39,
     "metadata": {},
     "output_type": "execute_result"
    }
   ],
   "source": [
    "scraped_directory.head()"
   ]
  },
  {
   "cell_type": "code",
   "execution_count": 41,
   "metadata": {},
   "outputs": [
    {
     "data": {
      "text/plain": [
       "Quilogy                                              4\n",
       "Earthlink                                            3\n",
       "Data Foundry                                         3\n",
       "IBM Microelectronics                                 3\n",
       "AAA Business Hosting                                 3\n",
       "                                                    ..\n",
       "Allteq                                               1\n",
       "180 LA                                               1\n",
       "Niles Bolton                                         1\n",
       "Public \\n\\t\\t\\t\\t\\t\\t\\t\\t\\t\\t\\t\\tRelations (Pipi)    1\n",
       "Earth Capital Partners (ECP)                         1\n",
       "Name: app_name, Length: 6988, dtype: int64"
      ]
     },
     "execution_count": 41,
     "metadata": {},
     "output_type": "execute_result"
    }
   ],
   "source": [
    "scraped_directory['app_name'].value_counts()"
   ]
  },
  {
   "cell_type": "code",
   "execution_count": 42,
   "metadata": {},
   "outputs": [],
   "source": [
    "scraped_directory=scraped_directory.drop_duplicates(subset='app_name', keep=\"first\")"
   ]
  },
  {
   "cell_type": "code",
   "execution_count": 43,
   "metadata": {},
   "outputs": [
    {
     "data": {
      "text/plain": [
       "Apps Communications                                    1\n",
       "Aegis Semiconductor                                    1\n",
       "Fabless \\n\\t\\t\\t\\t\\t\\t\\t\\t\\t\\t\\tSupplier (-T-)         1\n",
       "MerchantBridge                                         1\n",
       "Alpha \\n\\t\\t\\t\\t\\t\\t\\t\\t\\t\\t\\t(-CBE-)                  1\n",
       "                                                      ..\n",
       "Omnis Network                                          1\n",
       "Maxway                                                 1\n",
       "Health \\n\\t\\t\\t\\t\\t\\t\\t\\t\\t\\t\\t\\t\\t\\tBenefits (Mel)    1\n",
       "Technology Association of Georgia (TAG)                1\n",
       "Digimarc                                               1\n",
       "Name: app_name, Length: 6988, dtype: int64"
      ]
     },
     "execution_count": 43,
     "metadata": {},
     "output_type": "execute_result"
    }
   ],
   "source": [
    "scraped_directory['app_name'].value_counts()"
   ]
  },
  {
   "cell_type": "code",
   "execution_count": 50,
   "metadata": {},
   "outputs": [
    {
     "data": {
      "text/plain": [
       "4183"
      ]
     },
     "execution_count": 50,
     "metadata": {},
     "output_type": "execute_result"
    }
   ],
   "source": [
    "read_file=pd.read_csv('/Users/muhammadaqib/Documents/scraping_work/scrap_directories/business_software_saas_apps.csv')\n",
    "read_file = read_file.drop(['Unnamed: 0'], axis=1)\n",
    "read_file=read_file.drop_duplicates(subset='app_name', keep=\"first\")\n",
    "read_file.to_csv('/Users/muhammadaqib/Documents/scraping_work/scrap_directories/business_software_saas_apps.csv',index=False)\n",
    "\n",
    "len(read_file['app_name'].unique())"
   ]
  },
  {
   "cell_type": "code",
   "execution_count": null,
   "metadata": {},
   "outputs": [],
   "source": []
  }
 ],
 "metadata": {
  "kernelspec": {
   "display_name": "Python 3",
   "language": "python",
   "name": "python3"
  },
  "language_info": {
   "codemirror_mode": {
    "name": "ipython",
    "version": 3
   },
   "file_extension": ".py",
   "mimetype": "text/x-python",
   "name": "python",
   "nbconvert_exporter": "python",
   "pygments_lexer": "ipython3",
   "version": "3.8.5"
  }
 },
 "nbformat": 4,
 "nbformat_minor": 4
}
