{
 "cells": [
  {
   "cell_type": "code",
   "execution_count": 2,
   "metadata": {},
   "outputs": [
    {
     "data": {
      "text/html": [
       "<table style=\"border: 2px solid white;\">\n",
       "<tr>\n",
       "<td style=\"vertical-align: top; border: 0px solid white\">\n",
       "<h3 style=\"text-align: left;\">Client</h3>\n",
       "<ul style=\"text-align: left; list-style: none; margin: 0; padding: 0;\">\n",
       "  <li><b>Scheduler: </b>tcp://127.0.0.1:64970</li>\n",
       "  <li><b>Dashboard: </b><a href='http://127.0.0.1:8787/status' target='_blank'>http://127.0.0.1:8787/status</a></li>\n",
       "</ul>\n",
       "</td>\n",
       "<td style=\"vertical-align: top; border: 0px solid white\">\n",
       "<h3 style=\"text-align: left;\">Cluster</h3>\n",
       "<ul style=\"text-align: left; list-style:none; margin: 0; padding: 0;\">\n",
       "  <li><b>Workers: </b>4</li>\n",
       "  <li><b>Cores: </b>12</li>\n",
       "  <li><b>Memory: </b>17.18 GB</li>\n",
       "</ul>\n",
       "</td>\n",
       "</tr>\n",
       "</table>"
      ],
      "text/plain": [
       "<Client: 'tcp://127.0.0.1:64970' processes=4 threads=12, memory=17.18 GB>"
      ]
     },
     "execution_count": 2,
     "metadata": {},
     "output_type": "execute_result"
    }
   ],
   "source": [
    "import dask.dataframe as dd\n",
    "import dask.array as da\n",
    "from dask.distributed import Client\n",
    "import warnings\n",
    "warnings.filterwarnings('ignore')\n",
    "import dask \n",
    "import gc\n",
    "import os\n",
    "import pandas as pd\n",
    "import time\n",
    "client = Client()\n",
    "client"
   ]
  },
  {
   "cell_type": "code",
   "execution_count": 3,
   "metadata": {},
   "outputs": [],
   "source": [
    "import numpy as np\n",
    "def read_file(filename:str)->pd.DataFrame:\n",
    "    return pd.read_csv(filename,error_bad_lines=False,engine='python')\n"
   ]
  },
  {
   "cell_type": "code",
   "execution_count": 4,
   "metadata": {},
   "outputs": [
    {
     "data": {
      "text/plain": [
       "13.549652285000093"
      ]
     },
     "execution_count": 4,
     "metadata": {},
     "output_type": "execute_result"
    }
   ],
   "source": [
    "st = time.perf_counter()\n",
    "foundri_data = read_file('/Users/muhammadaqib/Documents/repos/privaci-rating/data_export/data/population/common/foundri_vendor_cookies.csv')\n",
    "time.perf_counter()-st"
   ]
  },
  {
   "cell_type": "code",
   "execution_count": 5,
   "metadata": {},
   "outputs": [
    {
     "data": {
      "text/plain": [
       "890611"
      ]
     },
     "execution_count": 5,
     "metadata": {},
     "output_type": "execute_result"
    }
   ],
   "source": [
    "len(foundri_data)"
   ]
  },
  {
   "cell_type": "code",
   "execution_count": 6,
   "metadata": {},
   "outputs": [
    {
     "data": {
      "text/plain": [
       "Index(['site_name', 'host', 'cookie_name', 'cookie_host', 'is_first_party',\n",
       "       'path', 'expiry', 'category', 'is_http_only', 'is_session_cookie',\n",
       "       'is_secure', 'description', 'data_location', 'source_url', 'type',\n",
       "       'subcategory', 'is_regex', 'country', 'service', 'policy_url',\n",
       "       'display_name'],\n",
       "      dtype='object')"
      ]
     },
     "execution_count": 6,
     "metadata": {},
     "output_type": "execute_result"
    }
   ],
   "source": [
    "foundri_data.columns"
   ]
  },
  {
   "cell_type": "code",
   "execution_count": 7,
   "metadata": {},
   "outputs": [],
   "source": [
    "res =foundri_data[\"description\"].str.len().max()"
   ]
  },
  {
   "cell_type": "code",
   "execution_count": 8,
   "metadata": {},
   "outputs": [
    {
     "data": {
      "text/plain": [
       "1130.0"
      ]
     },
     "execution_count": 8,
     "metadata": {},
     "output_type": "execute_result"
    }
   ],
   "source": [
    "res"
   ]
  },
  {
   "cell_type": "code",
   "execution_count": 11,
   "metadata": {},
   "outputs": [
    {
     "data": {
      "text/plain": [
       "Advertising                    387649\n",
       "Performance & Functionality    296691\n",
       "Essential                      100874\n",
       "Unknown                         68759\n",
       "Analytics & Customization       36638\n",
       "Name: category, dtype: int64"
      ]
     },
     "execution_count": 11,
     "metadata": {},
     "output_type": "execute_result"
    }
   ],
   "source": [
    "foundri_data.category.value_counts()"
   ]
  },
  {
   "cell_type": "code",
   "execution_count": 11,
   "metadata": {},
   "outputs": [],
   "source": [
    "unique_descriptions = foundri_data.description.value_counts()"
   ]
  },
  {
   "cell_type": "code",
   "execution_count": 12,
   "metadata": {},
   "outputs": [
    {
     "data": {
      "text/plain": [
       "Unknown                                                                                                                                                                                                                                                                                                                                                                                                                              343951\n",
       "This is an advertising cookie from Casale Media. Casale Media is a tech company providing online display and advertising services to optimize the value of premium content for brands.                                                                                                                                                                                                                                                51745\n",
       "These may be set through our site by our advertising partners. They may be used by those companies to build a profile of your interests and show you relevant adverts on other sites. They do not store directly personably identifiable information but are based on uniquely identifying your browser and internet device. If you do not allow, you will still see advertisements but they will be less targeted to your likes.     48313\n",
       "These cookies are used to deliver adverts more relevant to you and your interests. They are also used to limit the number of times you see an advertisement as well as help measure the effectiveness of the advertising campaign.                                                                                                                                                                                                    21102\n",
       "They may be used by those companies to build a profile of your interests and show you relevant adverts on other sites.    They do not store directly personably identifiable information but are based on uniquely identifying your browser and internet device                                                                                                                                                                       14758\n",
       "Name: description, dtype: int64"
      ]
     },
     "execution_count": 12,
     "metadata": {},
     "output_type": "execute_result"
    }
   ],
   "source": [
    "unique_descriptions.head(5)"
   ]
  },
  {
   "cell_type": "code",
   "execution_count": 103,
   "metadata": {},
   "outputs": [],
   "source": [
    "length_condition = foundri_data[\"description\"].str.len() <10 & foundri_data[\"description\"] != ''\n",
    "short_len_df = foundri_data[length_condition]\n",
    "short_len_df[\"description\"].replace({\"Unknown\": \"\", \"unknown\": \"\",\"uk\":\"\"}, inplace=True)\n",
    "\n",
    "# short_len_df['description'] = short_len_df['description'].map({'Unknown':'','unknown':'','uk':''})\n",
    "\n"
   ]
  },
  {
   "cell_type": "code",
   "execution_count": 105,
   "metadata": {},
   "outputs": [
    {
     "name": "stdout",
     "output_type": "stream",
     "text": [
      "344639\n"
     ]
    }
   ],
   "source": [
    "# short_len_df.to_csv('short_length.csv')\n",
    "print(len(short_len_df))\n",
    "length_condition = short_len_df[\"description\"].str.len() <10\n",
    "short_len_df = short_len_df[length_condition]\n",
    "short_len_df.columns\n",
    "\n",
    "short_len_df.to_csv('aaaaa.csv')\n"
   ]
  },
  {
   "cell_type": "code",
   "execution_count": 49,
   "metadata": {},
   "outputs": [
    {
     "data": {
      "text/html": [
       "<div>\n",
       "<style scoped>\n",
       "    .dataframe tbody tr th:only-of-type {\n",
       "        vertical-align: middle;\n",
       "    }\n",
       "\n",
       "    .dataframe tbody tr th {\n",
       "        vertical-align: top;\n",
       "    }\n",
       "\n",
       "    .dataframe thead th {\n",
       "        text-align: right;\n",
       "    }\n",
       "</style>\n",
       "<table border=\"1\" class=\"dataframe\">\n",
       "  <thead>\n",
       "    <tr style=\"text-align: right;\">\n",
       "      <th></th>\n",
       "      <th>site_name</th>\n",
       "      <th>host</th>\n",
       "      <th>cookie_name</th>\n",
       "      <th>cookie_host</th>\n",
       "      <th>is_first_party</th>\n",
       "      <th>path</th>\n",
       "      <th>expiry</th>\n",
       "      <th>category</th>\n",
       "      <th>is_http_only</th>\n",
       "      <th>is_session_cookie</th>\n",
       "      <th>...</th>\n",
       "      <th>description</th>\n",
       "      <th>data_location</th>\n",
       "      <th>source_url</th>\n",
       "      <th>type</th>\n",
       "      <th>subcategory</th>\n",
       "      <th>is_regex</th>\n",
       "      <th>country</th>\n",
       "      <th>service</th>\n",
       "      <th>policy_url</th>\n",
       "      <th>display_name</th>\n",
       "    </tr>\n",
       "  </thead>\n",
       "  <tbody>\n",
       "    <tr>\n",
       "      <th>1179</th>\n",
       "      <td>Tp-link</td>\n",
       "      <td>gotomeeting.com</td>\n",
       "      <td>_gat_global</td>\n",
       "      <td>gotomeeting.com</td>\n",
       "      <td>True</td>\n",
       "      <td>/</td>\n",
       "      <td>1.599198e+09</td>\n",
       "      <td>Performance &amp; Functionality</td>\n",
       "      <td>False</td>\n",
       "      <td>False</td>\n",
       "      <td>...</td>\n",
       "      <td>_gat_global is an unknown cookie from tp-link</td>\n",
       "      <td>NaN</td>\n",
       "      <td>NaN</td>\n",
       "      <td>http_cookie</td>\n",
       "      <td>NaN</td>\n",
       "      <td>NaN</td>\n",
       "      <td>NaN</td>\n",
       "      <td>Gotomeeting</td>\n",
       "      <td>NaN</td>\n",
       "      <td>NaN</td>\n",
       "    </tr>\n",
       "    <tr>\n",
       "      <th>469955</th>\n",
       "      <td>1stoplighting</td>\n",
       "      <td>http://www.1stoplighting.com</td>\n",
       "      <td>_gat_global</td>\n",
       "      <td>.1stoplighting.com</td>\n",
       "      <td>True</td>\n",
       "      <td>NaN</td>\n",
       "      <td>1.600836e+09</td>\n",
       "      <td>Unknown</td>\n",
       "      <td>False</td>\n",
       "      <td>False</td>\n",
       "      <td>...</td>\n",
       "      <td>_gat_global is an unknown cookie from tp-link</td>\n",
       "      <td>NaN</td>\n",
       "      <td>NaN</td>\n",
       "      <td>NaN</td>\n",
       "      <td>NaN</td>\n",
       "      <td>NaN</td>\n",
       "      <td>US</td>\n",
       "      <td>NaN</td>\n",
       "      <td>NaN</td>\n",
       "      <td>NaN</td>\n",
       "    </tr>\n",
       "    <tr>\n",
       "      <th>497777</th>\n",
       "      <td>Yelp</td>\n",
       "      <td>yelp.my</td>\n",
       "      <td>_gat_global</td>\n",
       "      <td>yelp.my</td>\n",
       "      <td>True</td>\n",
       "      <td>NaN</td>\n",
       "      <td>1.601468e+09</td>\n",
       "      <td>Unknown</td>\n",
       "      <td>False</td>\n",
       "      <td>False</td>\n",
       "      <td>...</td>\n",
       "      <td>Unknown</td>\n",
       "      <td>NaN</td>\n",
       "      <td>NaN</td>\n",
       "      <td>NaN</td>\n",
       "      <td>NaN</td>\n",
       "      <td>NaN</td>\n",
       "      <td>JP</td>\n",
       "      <td>NaN</td>\n",
       "      <td>NaN</td>\n",
       "      <td>NaN</td>\n",
       "    </tr>\n",
       "    <tr>\n",
       "      <th>500251</th>\n",
       "      <td>Technobuffalo</td>\n",
       "      <td>technobuffalo.com</td>\n",
       "      <td>_gat_global</td>\n",
       "      <td>technobuffalo.com</td>\n",
       "      <td>True</td>\n",
       "      <td>NaN</td>\n",
       "      <td>1.601458e+09</td>\n",
       "      <td>Unknown</td>\n",
       "      <td>False</td>\n",
       "      <td>False</td>\n",
       "      <td>...</td>\n",
       "      <td>Unknown</td>\n",
       "      <td>NaN</td>\n",
       "      <td>NaN</td>\n",
       "      <td>NaN</td>\n",
       "      <td>NaN</td>\n",
       "      <td>NaN</td>\n",
       "      <td>US</td>\n",
       "      <td>NaN</td>\n",
       "      <td>NaN</td>\n",
       "      <td>NaN</td>\n",
       "    </tr>\n",
       "    <tr>\n",
       "      <th>504108</th>\n",
       "      <td>Imore</td>\n",
       "      <td>imore.com</td>\n",
       "      <td>_gat_global</td>\n",
       "      <td>imore.com</td>\n",
       "      <td>True</td>\n",
       "      <td>NaN</td>\n",
       "      <td>1.601460e+09</td>\n",
       "      <td>Unknown</td>\n",
       "      <td>False</td>\n",
       "      <td>False</td>\n",
       "      <td>...</td>\n",
       "      <td>Unknown</td>\n",
       "      <td>NaN</td>\n",
       "      <td>NaN</td>\n",
       "      <td>NaN</td>\n",
       "      <td>NaN</td>\n",
       "      <td>NaN</td>\n",
       "      <td>US</td>\n",
       "      <td>NaN</td>\n",
       "      <td>NaN</td>\n",
       "      <td>NaN</td>\n",
       "    </tr>\n",
       "    <tr>\n",
       "      <th>588639</th>\n",
       "      <td>Livechatinc</td>\n",
       "      <td>livechatinc.com</td>\n",
       "      <td>_gat_global</td>\n",
       "      <td>livechatinc.com</td>\n",
       "      <td>True</td>\n",
       "      <td>NaN</td>\n",
       "      <td>1.607432e+09</td>\n",
       "      <td>Unknown</td>\n",
       "      <td>False</td>\n",
       "      <td>False</td>\n",
       "      <td>...</td>\n",
       "      <td>Unknown</td>\n",
       "      <td>NaN</td>\n",
       "      <td>NaN</td>\n",
       "      <td>NaN</td>\n",
       "      <td>NaN</td>\n",
       "      <td>NaN</td>\n",
       "      <td>US</td>\n",
       "      <td>Livechatinc</td>\n",
       "      <td>NaN</td>\n",
       "      <td>NaN</td>\n",
       "    </tr>\n",
       "  </tbody>\n",
       "</table>\n",
       "<p>6 rows × 21 columns</p>\n",
       "</div>"
      ],
      "text/plain": [
       "            site_name                          host  cookie_name  \\\n",
       "1179          Tp-link               gotomeeting.com  _gat_global   \n",
       "469955  1stoplighting  http://www.1stoplighting.com  _gat_global   \n",
       "497777           Yelp                       yelp.my  _gat_global   \n",
       "500251  Technobuffalo             technobuffalo.com  _gat_global   \n",
       "504108          Imore                     imore.com  _gat_global   \n",
       "588639    Livechatinc               livechatinc.com  _gat_global   \n",
       "\n",
       "               cookie_host is_first_party path        expiry  \\\n",
       "1179       gotomeeting.com           True    /  1.599198e+09   \n",
       "469955  .1stoplighting.com           True  NaN  1.600836e+09   \n",
       "497777             yelp.my           True  NaN  1.601468e+09   \n",
       "500251   technobuffalo.com           True  NaN  1.601458e+09   \n",
       "504108           imore.com           True  NaN  1.601460e+09   \n",
       "588639     livechatinc.com           True  NaN  1.607432e+09   \n",
       "\n",
       "                           category is_http_only is_session_cookie  ...  \\\n",
       "1179    Performance & Functionality        False             False  ...   \n",
       "469955                      Unknown        False             False  ...   \n",
       "497777                      Unknown        False             False  ...   \n",
       "500251                      Unknown        False             False  ...   \n",
       "504108                      Unknown        False             False  ...   \n",
       "588639                      Unknown        False             False  ...   \n",
       "\n",
       "                                          description data_location  \\\n",
       "1179    _gat_global is an unknown cookie from tp-link           NaN   \n",
       "469955  _gat_global is an unknown cookie from tp-link           NaN   \n",
       "497777                                        Unknown           NaN   \n",
       "500251                                        Unknown           NaN   \n",
       "504108                                        Unknown           NaN   \n",
       "588639                                        Unknown           NaN   \n",
       "\n",
       "        source_url         type subcategory is_regex country      service  \\\n",
       "1179           NaN  http_cookie         NaN      NaN     NaN  Gotomeeting   \n",
       "469955         NaN          NaN         NaN      NaN      US          NaN   \n",
       "497777         NaN          NaN         NaN      NaN      JP          NaN   \n",
       "500251         NaN          NaN         NaN      NaN      US          NaN   \n",
       "504108         NaN          NaN         NaN      NaN      US          NaN   \n",
       "588639         NaN          NaN         NaN      NaN      US  Livechatinc   \n",
       "\n",
       "       policy_url display_name  \n",
       "1179          NaN          NaN  \n",
       "469955        NaN          NaN  \n",
       "497777        NaN          NaN  \n",
       "500251        NaN          NaN  \n",
       "504108        NaN          NaN  \n",
       "588639        NaN          NaN  \n",
       "\n",
       "[6 rows x 21 columns]"
      ]
     },
     "execution_count": 49,
     "metadata": {},
     "output_type": "execute_result"
    }
   ],
   "source": [
    "\n",
    "foundri_data[foundri_data['cookie_name']=='_gat_global']"
   ]
  },
  {
   "cell_type": "code",
   "execution_count": 50,
   "metadata": {},
   "outputs": [
    {
     "data": {
      "text/html": [
       "<div>\n",
       "<style scoped>\n",
       "    .dataframe tbody tr th:only-of-type {\n",
       "        vertical-align: middle;\n",
       "    }\n",
       "\n",
       "    .dataframe tbody tr th {\n",
       "        vertical-align: top;\n",
       "    }\n",
       "\n",
       "    .dataframe thead th {\n",
       "        text-align: right;\n",
       "    }\n",
       "</style>\n",
       "<table border=\"1\" class=\"dataframe\">\n",
       "  <thead>\n",
       "    <tr style=\"text-align: right;\">\n",
       "      <th></th>\n",
       "      <th>site_name</th>\n",
       "      <th>host</th>\n",
       "      <th>cookie_name</th>\n",
       "      <th>cookie_host</th>\n",
       "      <th>is_first_party</th>\n",
       "      <th>path</th>\n",
       "      <th>expiry</th>\n",
       "      <th>category</th>\n",
       "      <th>is_http_only</th>\n",
       "      <th>is_session_cookie</th>\n",
       "      <th>...</th>\n",
       "      <th>description</th>\n",
       "      <th>data_location</th>\n",
       "      <th>source_url</th>\n",
       "      <th>type</th>\n",
       "      <th>subcategory</th>\n",
       "      <th>is_regex</th>\n",
       "      <th>country</th>\n",
       "      <th>service</th>\n",
       "      <th>policy_url</th>\n",
       "      <th>display_name</th>\n",
       "    </tr>\n",
       "  </thead>\n",
       "  <tbody>\n",
       "  </tbody>\n",
       "</table>\n",
       "<p>0 rows × 21 columns</p>\n",
       "</div>"
      ],
      "text/plain": [
       "Empty DataFrame\n",
       "Columns: [site_name, host, cookie_name, cookie_host, is_first_party, path, expiry, category, is_http_only, is_session_cookie, is_secure, description, data_location, source_url, type, subcategory, is_regex, country, service, policy_url, display_name]\n",
       "Index: []\n",
       "\n",
       "[0 rows x 21 columns]"
      ]
     },
     "execution_count": 50,
     "metadata": {},
     "output_type": "execute_result"
    }
   ],
   "source": [
    "'This cookie collects anonymized information about how users use this site for analysis purposes.'\n",
    "foundri_data['description']=foundri_data['description'].apply(str)\n",
    "foundri_data[foundri_data['description'].str.contains('This cookie set by Vimeo to enable the operation of Vimeo videos embedded in this website.')]"
   ]
  },
  {
   "cell_type": "code",
   "execution_count": 63,
   "metadata": {},
   "outputs": [],
   "source": [
    "#purpose and cat mismatch\n",
    "res2=foundri_data[ (foundri_data[\"category\"]!='Unknown') & (foundri_data[\"description\"].str.len() >10) & ((foundri_data[\"description\"].str.contains('Unknown '))|(foundri_data[\"description\"].str.contains('unknown')))]"
   ]
  },
  {
   "cell_type": "code",
   "execution_count": 78,
   "metadata": {},
   "outputs": [
    {
     "data": {
      "text/plain": [
       "446"
      ]
     },
     "execution_count": 78,
     "metadata": {},
     "output_type": "execute_result"
    }
   ],
   "source": [
    "\n",
    "len(res2)"
   ]
  },
  {
   "cell_type": "code",
   "execution_count": 65,
   "metadata": {},
   "outputs": [
    {
     "data": {
      "text/html": [
       "<div>\n",
       "<style scoped>\n",
       "    .dataframe tbody tr th:only-of-type {\n",
       "        vertical-align: middle;\n",
       "    }\n",
       "\n",
       "    .dataframe tbody tr th {\n",
       "        vertical-align: top;\n",
       "    }\n",
       "\n",
       "    .dataframe thead th {\n",
       "        text-align: right;\n",
       "    }\n",
       "</style>\n",
       "<table border=\"1\" class=\"dataframe\">\n",
       "  <thead>\n",
       "    <tr style=\"text-align: right;\">\n",
       "      <th></th>\n",
       "      <th>site_name</th>\n",
       "      <th>host</th>\n",
       "      <th>cookie_name</th>\n",
       "      <th>cookie_host</th>\n",
       "      <th>is_first_party</th>\n",
       "      <th>path</th>\n",
       "      <th>expiry</th>\n",
       "      <th>category</th>\n",
       "      <th>is_http_only</th>\n",
       "      <th>is_session_cookie</th>\n",
       "      <th>...</th>\n",
       "      <th>description</th>\n",
       "      <th>data_location</th>\n",
       "      <th>source_url</th>\n",
       "      <th>type</th>\n",
       "      <th>subcategory</th>\n",
       "      <th>is_regex</th>\n",
       "      <th>country</th>\n",
       "      <th>service</th>\n",
       "      <th>policy_url</th>\n",
       "      <th>display_name</th>\n",
       "    </tr>\n",
       "  </thead>\n",
       "  <tbody>\n",
       "    <tr>\n",
       "      <th>1332</th>\n",
       "      <td>Rgs</td>\n",
       "      <td>rgs.ru</td>\n",
       "      <td>indexexchange_sync</td>\n",
       "      <td>adhigh.net</td>\n",
       "      <td>False</td>\n",
       "      <td>/</td>\n",
       "      <td>1628002376</td>\n",
       "      <td>Advertising</td>\n",
       "      <td>False</td>\n",
       "      <td>False</td>\n",
       "      <td>...</td>\n",
       "      <td>indexexchange_sync is an unknown cookie from rgs</td>\n",
       "      <td>NaN</td>\n",
       "      <td>NaN</td>\n",
       "      <td>http_cookie</td>\n",
       "      <td>NaN</td>\n",
       "      <td>False</td>\n",
       "      <td>NaN</td>\n",
       "      <td>Adhigh</td>\n",
       "      <td>NaN</td>\n",
       "      <td>NaN</td>\n",
       "    </tr>\n",
       "    <tr>\n",
       "      <th>2411</th>\n",
       "      <td>Rgs</td>\n",
       "      <td>rgs.ru</td>\n",
       "      <td>lentainform_sync</td>\n",
       "      <td>adhigh.net</td>\n",
       "      <td>False</td>\n",
       "      <td>/</td>\n",
       "      <td>1628002376</td>\n",
       "      <td>Advertising</td>\n",
       "      <td>False</td>\n",
       "      <td>False</td>\n",
       "      <td>...</td>\n",
       "      <td>lentainform_sync is an unknown cookie from rgs</td>\n",
       "      <td>NaN</td>\n",
       "      <td>NaN</td>\n",
       "      <td>http_cookie</td>\n",
       "      <td>NaN</td>\n",
       "      <td>False</td>\n",
       "      <td>NaN</td>\n",
       "      <td>Adhigh</td>\n",
       "      <td>NaN</td>\n",
       "      <td>NaN</td>\n",
       "    </tr>\n",
       "    <tr>\n",
       "      <th>2416</th>\n",
       "      <td>Rgs</td>\n",
       "      <td>rgs.ru</td>\n",
       "      <td>otm_display_sync</td>\n",
       "      <td>adhigh.net</td>\n",
       "      <td>False</td>\n",
       "      <td>/</td>\n",
       "      <td>1628002376</td>\n",
       "      <td>Advertising</td>\n",
       "      <td>False</td>\n",
       "      <td>False</td>\n",
       "      <td>...</td>\n",
       "      <td>otm_display_sync is an unknown cookie from rgs</td>\n",
       "      <td>NaN</td>\n",
       "      <td>NaN</td>\n",
       "      <td>http_cookie</td>\n",
       "      <td>NaN</td>\n",
       "      <td>False</td>\n",
       "      <td>NaN</td>\n",
       "      <td>Adhigh</td>\n",
       "      <td>NaN</td>\n",
       "      <td>NaN</td>\n",
       "    </tr>\n",
       "    <tr>\n",
       "      <th>3199</th>\n",
       "      <td>Ibk</td>\n",
       "      <td>gsnpoint.com</td>\n",
       "      <td>ccsession</td>\n",
       "      <td>gsnpoint.com</td>\n",
       "      <td>False</td>\n",
       "      <td>/</td>\n",
       "      <td>-1</td>\n",
       "      <td>Performance &amp; Functionality</td>\n",
       "      <td>False</td>\n",
       "      <td>True</td>\n",
       "      <td>...</td>\n",
       "      <td>ccsession is an unknown cookie from ibk</td>\n",
       "      <td>NaN</td>\n",
       "      <td>NaN</td>\n",
       "      <td>http_cookie</td>\n",
       "      <td>NaN</td>\n",
       "      <td>False</td>\n",
       "      <td>NaN</td>\n",
       "      <td>Gsnpoint</td>\n",
       "      <td>NaN</td>\n",
       "      <td>NaN</td>\n",
       "    </tr>\n",
       "    <tr>\n",
       "      <th>112774</th>\n",
       "      <td>Iovation</td>\n",
       "      <td>iovation.com</td>\n",
       "      <td>visitor_id1692</td>\n",
       "      <td>iovation.io</td>\n",
       "      <td>False</td>\n",
       "      <td>/</td>\n",
       "      <td>1630737225</td>\n",
       "      <td>Advertising</td>\n",
       "      <td>False</td>\n",
       "      <td>False</td>\n",
       "      <td>...</td>\n",
       "      <td>visitor_id1692 is an unknown cookie from iovation</td>\n",
       "      <td>NaN</td>\n",
       "      <td>NaN</td>\n",
       "      <td>http_cookie</td>\n",
       "      <td>NaN</td>\n",
       "      <td>False</td>\n",
       "      <td>NaN</td>\n",
       "      <td>Iovation</td>\n",
       "      <td>NaN</td>\n",
       "      <td>NaN</td>\n",
       "    </tr>\n",
       "    <tr>\n",
       "      <th>112775</th>\n",
       "      <td>Iovation</td>\n",
       "      <td>iovation.com</td>\n",
       "      <td>visitor_id1692-hash</td>\n",
       "      <td>iovation.io</td>\n",
       "      <td>False</td>\n",
       "      <td>/</td>\n",
       "      <td>1630737225</td>\n",
       "      <td>Essential</td>\n",
       "      <td>False</td>\n",
       "      <td>False</td>\n",
       "      <td>...</td>\n",
       "      <td>visitor_id1692-hash is an unknown cookie from ...</td>\n",
       "      <td>NaN</td>\n",
       "      <td>NaN</td>\n",
       "      <td>http_cookie</td>\n",
       "      <td>NaN</td>\n",
       "      <td>False</td>\n",
       "      <td>NaN</td>\n",
       "      <td>Iovation</td>\n",
       "      <td>NaN</td>\n",
       "      <td>NaN</td>\n",
       "    </tr>\n",
       "    <tr>\n",
       "      <th>113919</th>\n",
       "      <td>Ef</td>\n",
       "      <td>ef.com</td>\n",
       "      <td>tts</td>\n",
       "      <td>ef.com</td>\n",
       "      <td>False</td>\n",
       "      <td>/</td>\n",
       "      <td>1596464203</td>\n",
       "      <td>Performance &amp; Functionality</td>\n",
       "      <td>False</td>\n",
       "      <td>False</td>\n",
       "      <td>...</td>\n",
       "      <td>tts is an unknown cookie from ef</td>\n",
       "      <td>NaN</td>\n",
       "      <td>NaN</td>\n",
       "      <td>http_cookie</td>\n",
       "      <td>NaN</td>\n",
       "      <td>False</td>\n",
       "      <td>NaN</td>\n",
       "      <td>Ef</td>\n",
       "      <td>NaN</td>\n",
       "      <td>NaN</td>\n",
       "    </tr>\n",
       "    <tr>\n",
       "      <th>178091</th>\n",
       "      <td>Jomashop</td>\n",
       "      <td>jomashop.com</td>\n",
       "      <td>_vis_opt_exp_141_combi</td>\n",
       "      <td>jomashop.com</td>\n",
       "      <td>False</td>\n",
       "      <td>/</td>\n",
       "      <td>1605103797</td>\n",
       "      <td>Performance &amp; Functionality</td>\n",
       "      <td>False</td>\n",
       "      <td>False</td>\n",
       "      <td>...</td>\n",
       "      <td>_vis_opt_exp_141_combi is an unknown cookie fr...</td>\n",
       "      <td>NaN</td>\n",
       "      <td>NaN</td>\n",
       "      <td>http_cookie</td>\n",
       "      <td>NaN</td>\n",
       "      <td>False</td>\n",
       "      <td>NaN</td>\n",
       "      <td>Jomashop</td>\n",
       "      <td>NaN</td>\n",
       "      <td>NaN</td>\n",
       "    </tr>\n",
       "    <tr>\n",
       "      <th>178690</th>\n",
       "      <td>Jpost</td>\n",
       "      <td>jpost.com</td>\n",
       "      <td>prism_25900740</td>\n",
       "      <td>jpost.com</td>\n",
       "      <td>False</td>\n",
       "      <td>/</td>\n",
       "      <td>1599055818</td>\n",
       "      <td>Performance &amp; Functionality</td>\n",
       "      <td>False</td>\n",
       "      <td>False</td>\n",
       "      <td>...</td>\n",
       "      <td>prism_25900740 is an Unknown cookie from jpost</td>\n",
       "      <td>NaN</td>\n",
       "      <td>NaN</td>\n",
       "      <td>http_cookie</td>\n",
       "      <td>NaN</td>\n",
       "      <td>False</td>\n",
       "      <td>NaN</td>\n",
       "      <td>Jpost</td>\n",
       "      <td>NaN</td>\n",
       "      <td>NaN</td>\n",
       "    </tr>\n",
       "    <tr>\n",
       "      <th>178729</th>\n",
       "      <td>Prensalibre</td>\n",
       "      <td>prensalibre.com</td>\n",
       "      <td>fi_utm</td>\n",
       "      <td>prensalibre.com</td>\n",
       "      <td>False</td>\n",
       "      <td>/</td>\n",
       "      <td>1596467686</td>\n",
       "      <td>Advertising</td>\n",
       "      <td>False</td>\n",
       "      <td>False</td>\n",
       "      <td>...</td>\n",
       "      <td>fi_utm is an Unknown cookie from prensalibre</td>\n",
       "      <td>NaN</td>\n",
       "      <td>NaN</td>\n",
       "      <td>http_cookie</td>\n",
       "      <td>NaN</td>\n",
       "      <td>False</td>\n",
       "      <td>NaN</td>\n",
       "      <td>Prensalibre</td>\n",
       "      <td>NaN</td>\n",
       "      <td>NaN</td>\n",
       "    </tr>\n",
       "  </tbody>\n",
       "</table>\n",
       "<p>10 rows × 21 columns</p>\n",
       "</div>"
      ],
      "text/plain": [
       "          site_name             host             cookie_name      cookie_host  \\\n",
       "1332            Rgs           rgs.ru      indexexchange_sync       adhigh.net   \n",
       "2411            Rgs           rgs.ru        lentainform_sync       adhigh.net   \n",
       "2416            Rgs           rgs.ru        otm_display_sync       adhigh.net   \n",
       "3199            Ibk     gsnpoint.com               ccsession     gsnpoint.com   \n",
       "112774     Iovation     iovation.com          visitor_id1692      iovation.io   \n",
       "112775     Iovation     iovation.com     visitor_id1692-hash      iovation.io   \n",
       "113919           Ef           ef.com                     tts           ef.com   \n",
       "178091     Jomashop     jomashop.com  _vis_opt_exp_141_combi     jomashop.com   \n",
       "178690        Jpost        jpost.com          prism_25900740        jpost.com   \n",
       "178729  Prensalibre  prensalibre.com                  fi_utm  prensalibre.com   \n",
       "\n",
       "       is_first_party path      expiry                     category  \\\n",
       "1332            False    /  1628002376                  Advertising   \n",
       "2411            False    /  1628002376                  Advertising   \n",
       "2416            False    /  1628002376                  Advertising   \n",
       "3199            False    /          -1  Performance & Functionality   \n",
       "112774          False    /  1630737225                  Advertising   \n",
       "112775          False    /  1630737225                    Essential   \n",
       "113919          False    /  1596464203  Performance & Functionality   \n",
       "178091          False    /  1605103797  Performance & Functionality   \n",
       "178690          False    /  1599055818  Performance & Functionality   \n",
       "178729          False    /  1596467686                  Advertising   \n",
       "\n",
       "       is_http_only is_session_cookie  ...  \\\n",
       "1332          False             False  ...   \n",
       "2411          False             False  ...   \n",
       "2416          False             False  ...   \n",
       "3199          False              True  ...   \n",
       "112774        False             False  ...   \n",
       "112775        False             False  ...   \n",
       "113919        False             False  ...   \n",
       "178091        False             False  ...   \n",
       "178690        False             False  ...   \n",
       "178729        False             False  ...   \n",
       "\n",
       "                                              description data_location  \\\n",
       "1332     indexexchange_sync is an unknown cookie from rgs           NaN   \n",
       "2411       lentainform_sync is an unknown cookie from rgs           NaN   \n",
       "2416       otm_display_sync is an unknown cookie from rgs           NaN   \n",
       "3199              ccsession is an unknown cookie from ibk           NaN   \n",
       "112774  visitor_id1692 is an unknown cookie from iovation           NaN   \n",
       "112775  visitor_id1692-hash is an unknown cookie from ...           NaN   \n",
       "113919                   tts is an unknown cookie from ef           NaN   \n",
       "178091  _vis_opt_exp_141_combi is an unknown cookie fr...           NaN   \n",
       "178690     prism_25900740 is an Unknown cookie from jpost           NaN   \n",
       "178729       fi_utm is an Unknown cookie from prensalibre           NaN   \n",
       "\n",
       "        source_url         type subcategory is_regex country      service  \\\n",
       "1332           NaN  http_cookie         NaN    False     NaN       Adhigh   \n",
       "2411           NaN  http_cookie         NaN    False     NaN       Adhigh   \n",
       "2416           NaN  http_cookie         NaN    False     NaN       Adhigh   \n",
       "3199           NaN  http_cookie         NaN    False     NaN     Gsnpoint   \n",
       "112774         NaN  http_cookie         NaN    False     NaN     Iovation   \n",
       "112775         NaN  http_cookie         NaN    False     NaN     Iovation   \n",
       "113919         NaN  http_cookie         NaN    False     NaN           Ef   \n",
       "178091         NaN  http_cookie         NaN    False     NaN     Jomashop   \n",
       "178690         NaN  http_cookie         NaN    False     NaN        Jpost   \n",
       "178729         NaN  http_cookie         NaN    False     NaN  Prensalibre   \n",
       "\n",
       "       policy_url display_name  \n",
       "1332          NaN          NaN  \n",
       "2411          NaN          NaN  \n",
       "2416          NaN          NaN  \n",
       "3199          NaN          NaN  \n",
       "112774        NaN          NaN  \n",
       "112775        NaN          NaN  \n",
       "113919        NaN          NaN  \n",
       "178091        NaN          NaN  \n",
       "178690        NaN          NaN  \n",
       "178729        NaN          NaN  \n",
       "\n",
       "[10 rows x 21 columns]"
      ]
     },
     "execution_count": 65,
     "metadata": {},
     "output_type": "execute_result"
    }
   ],
   "source": [
    "res2.head(10)"
   ]
  },
  {
   "cell_type": "code",
   "execution_count": 66,
   "metadata": {},
   "outputs": [],
   "source": [
    "res2=res2[['host', 'cookie_name', 'cookie_host','category','description']]"
   ]
  },
  {
   "cell_type": "code",
   "execution_count": 67,
   "metadata": {},
   "outputs": [],
   "source": [
    "res2.to_csv('notUKAndLenGt10.csv',index=False)"
   ]
  },
  {
   "cell_type": "code",
   "execution_count": 32,
   "metadata": {},
   "outputs": [
    {
     "data": {
      "text/plain": [
       "65416"
      ]
     },
     "execution_count": 32,
     "metadata": {},
     "output_type": "execute_result"
    }
   ],
   "source": [
    "#purpose and cat mismatch\n",
    "res3=foundri_data.loc[ (foundri_data[\"category\"]=='Advertising')  & (foundri_data[\"description\"].str.contains('advert',case=False)==False)\n",
    "                     &  (foundri_data[\"description\"].str.contains('ad',case=False)==False) &  (foundri_data[\"description\"].str.contains('market',case=False)==False)]\n",
    "\n",
    "\n",
    "\n",
    "\n",
    "len(res3)"
   ]
  },
  {
   "cell_type": "code",
   "execution_count": 33,
   "metadata": {},
   "outputs": [
    {
     "data": {
      "text/plain": [
       "1      Used by the social networking service, LinkedI...\n",
       "16     This cookie is used to group the user behaviou...\n",
       "71     These cookies are used to track user behavior ...\n",
       "72     These cookies are used to track user behavior ...\n",
       "88     Randomly generated person identifier (used to ...\n",
       "91              Tracking tc_ptid cookie expiration value\n",
       "186    This is an analytics cookie from Salesforce. S...\n",
       "203    The visitor hash cookie contains the account I...\n",
       "207    The visitor cookie includes a unique visitor I...\n",
       "286    These are performance cookies which we use to ...\n",
       "349    This cookie is used by Youtube as part of thei...\n",
       "414    The visitor hash cookie contains the account I...\n",
       "415    The visitor cookie includes a unique visitor I...\n",
       "446    The AMCVS cookie serves as a flag indicating t...\n",
       "458    The visitor cookie includes a unique visitor I...\n",
       "461    The visitor hash cookie contains the account I...\n",
       "472    These are performance cookies which we use to ...\n",
       "476    These are performance cookies which we use to ...\n",
       "491    This is the Session Identification cookie.  Th...\n",
       "492    This is the User Identification cookie.  This ...\n",
       "493    This is the Session Identification cookie.  Th...\n",
       "497    This is an analytics cookie from Drawbridge. D...\n",
       "502    Collects information on user preferences and/o...\n",
       "563    These cookies are used to track user behavior ...\n",
       "564    These cookies are used to track user behavior ...\n",
       "566    The visitor cookie includes a unique visitor I...\n",
       "567    The visitor hash cookie contains the account I...\n",
       "572    The visitor hash cookie contains the account I...\n",
       "574    The visitor cookie includes a unique visitor I...\n",
       "651    The visitor hash cookie contains the account I...\n",
       "652    The visitor cookie includes a unique visitor I...\n",
       "671                                                   uk\n",
       "724    Used to identify your browser to remember conv...\n",
       "743    This opt-out cookie identifies if the visitor ...\n",
       "756    The AMCVS cookie serves as a flag indicating t...\n",
       "Name: description, dtype: object"
      ]
     },
     "execution_count": 33,
     "metadata": {},
     "output_type": "execute_result"
    }
   ],
   "source": [
    "res3['description'].head(35)"
   ]
  },
  {
   "cell_type": "code",
   "execution_count": 34,
   "metadata": {},
   "outputs": [],
   "source": [
    "res3=res3[['host', 'cookie_name', 'cookie_host','category','description']]"
   ]
  },
  {
   "cell_type": "code",
   "execution_count": 35,
   "metadata": {},
   "outputs": [],
   "source": [
    "res3.to_csv('mismatch_adv_essential.csv',index=False)"
   ]
  },
  {
   "cell_type": "code",
   "execution_count": 61,
   "metadata": {},
   "outputs": [
    {
     "data": {
      "text/plain": [
       "2503"
      ]
     },
     "execution_count": 61,
     "metadata": {},
     "output_type": "execute_result"
    }
   ],
   "source": [
    "#purpose and cat mismatch\n",
    "res4=foundri_data[(foundri_data[\"description\"].str.contains('unknown', case=False, na=False)==False)\n",
    "                  & (foundri_data[\"description\"].str.contains('cookie from', case=False, na=False))\n",
    "                  &  (foundri_data[\"description\"].str.len()<80)]\n",
    "\n",
    "\n",
    "len(res4)\n",
    "\n"
   ]
  },
  {
   "cell_type": "code",
   "execution_count": 62,
   "metadata": {},
   "outputs": [],
   "source": [
    "res4=res4[['host', 'cookie_name', 'cookie_host','category','description']]\n",
    "res4.to_csv('case3.csv',index=False)"
   ]
  },
  {
   "cell_type": "code",
   "execution_count": 63,
   "metadata": {},
   "outputs": [
    {
     "data": {
      "text/html": [
       "<div>\n",
       "<style scoped>\n",
       "    .dataframe tbody tr th:only-of-type {\n",
       "        vertical-align: middle;\n",
       "    }\n",
       "\n",
       "    .dataframe tbody tr th {\n",
       "        vertical-align: top;\n",
       "    }\n",
       "\n",
       "    .dataframe thead th {\n",
       "        text-align: right;\n",
       "    }\n",
       "</style>\n",
       "<table border=\"1\" class=\"dataframe\">\n",
       "  <thead>\n",
       "    <tr style=\"text-align: right;\">\n",
       "      <th></th>\n",
       "      <th>host</th>\n",
       "      <th>cookie_name</th>\n",
       "      <th>cookie_host</th>\n",
       "      <th>category</th>\n",
       "      <th>description</th>\n",
       "    </tr>\n",
       "  </thead>\n",
       "  <tbody>\n",
       "    <tr>\n",
       "      <th>474998</th>\n",
       "      <td>http://www.scubastore.com</td>\n",
       "      <td>num_items</td>\n",
       "      <td>www.scubastore.com</td>\n",
       "      <td>Advertising</td>\n",
       "      <td>This is an advertising cookie from tradeinn. T...</td>\n",
       "    </tr>\n",
       "    <tr>\n",
       "      <th>474999</th>\n",
       "      <td>http://www.scubastore.com</td>\n",
       "      <td>id_cesta</td>\n",
       "      <td>www.scubastore.com</td>\n",
       "      <td>Advertising</td>\n",
       "      <td>This is an advertising cookie from tradeinn. T...</td>\n",
       "    </tr>\n",
       "    <tr>\n",
       "      <th>475000</th>\n",
       "      <td>http://www.scubastore.com</td>\n",
       "      <td>mail_cliente</td>\n",
       "      <td>www.scubastore.com</td>\n",
       "      <td>Advertising</td>\n",
       "      <td>This is an advertising cookie from tradeinn. T...</td>\n",
       "    </tr>\n",
       "    <tr>\n",
       "      <th>475001</th>\n",
       "      <td>http://www.scubastore.com</td>\n",
       "      <td>googleuserid</td>\n",
       "      <td>www.scubastore.com</td>\n",
       "      <td>Advertising</td>\n",
       "      <td>This is an advertising cookie from tradeinn. T...</td>\n",
       "    </tr>\n",
       "    <tr>\n",
       "      <th>475003</th>\n",
       "      <td>http://www.scubastore.com</td>\n",
       "      <td>barra_cookies</td>\n",
       "      <td>www.scubastore.com</td>\n",
       "      <td>Advertising</td>\n",
       "      <td>This is an advertising cookie from tradeinn. T...</td>\n",
       "    </tr>\n",
       "    <tr>\n",
       "      <th>475004</th>\n",
       "      <td>http://www.scubastore.com</td>\n",
       "      <td>id_pais</td>\n",
       "      <td>www.scubastore.com</td>\n",
       "      <td>Advertising</td>\n",
       "      <td>id_pais is an Advertising cookie from dressinn</td>\n",
       "    </tr>\n",
       "    <tr>\n",
       "      <th>475005</th>\n",
       "      <td>http://www.scubastore.com</td>\n",
       "      <td>id_tienda</td>\n",
       "      <td>www.scubastore.com</td>\n",
       "      <td>Advertising</td>\n",
       "      <td>id_tienda is an Advertising cookie from dressinn</td>\n",
       "    </tr>\n",
       "    <tr>\n",
       "      <th>475006</th>\n",
       "      <td>http://www.scubastore.com</td>\n",
       "      <td>gclid_ds</td>\n",
       "      <td>www.scubastore.com</td>\n",
       "      <td>Advertising</td>\n",
       "      <td>This is an advertising cookie from tradeinn. T...</td>\n",
       "    </tr>\n",
       "    <tr>\n",
       "      <th>475007</th>\n",
       "      <td>http://www.scubastore.com</td>\n",
       "      <td>change_domain</td>\n",
       "      <td>www.scubastore.com</td>\n",
       "      <td>Advertising</td>\n",
       "      <td>This is an advertising cookie from tradeinn. T...</td>\n",
       "    </tr>\n",
       "    <tr>\n",
       "      <th>475342</th>\n",
       "      <td>http://mimio.com</td>\n",
       "      <td>geot_rocket_country</td>\n",
       "      <td>mimio.boxlight.com</td>\n",
       "      <td>Advertising</td>\n",
       "      <td>geot_rocket_country is an Advertising cookie f...</td>\n",
       "    </tr>\n",
       "    <tr>\n",
       "      <th>475343</th>\n",
       "      <td>http://mimio.com</td>\n",
       "      <td>geot_rocket_city</td>\n",
       "      <td>mimio.boxlight.com</td>\n",
       "      <td>Advertising</td>\n",
       "      <td>geot_rocket_city is an Advertising cookie from...</td>\n",
       "    </tr>\n",
       "    <tr>\n",
       "      <th>475505</th>\n",
       "      <td>http://www.3dmatrix.com</td>\n",
       "      <td>geot_rocket_state</td>\n",
       "      <td>www.3dmatrix.com</td>\n",
       "      <td>Advertising</td>\n",
       "      <td>geot_rocket_state is an Advertising cookie fro...</td>\n",
       "    </tr>\n",
       "    <tr>\n",
       "      <th>475516</th>\n",
       "      <td>http://merlin.pl</td>\n",
       "      <td>cq</td>\n",
       "      <td>merlin.pl</td>\n",
       "      <td>Advertising</td>\n",
       "      <td>This is an advertising cookie from Tmall.com. ...</td>\n",
       "    </tr>\n",
       "    <tr>\n",
       "      <th>475753</th>\n",
       "      <td>http://trekkinn.com</td>\n",
       "      <td>_dc_gtm_UA-17685316-2</td>\n",
       "      <td>.trekkinn.com</td>\n",
       "      <td>Advertising</td>\n",
       "      <td>This is an advertising cookie from tradeinn. T...</td>\n",
       "    </tr>\n",
       "    <tr>\n",
       "      <th>475754</th>\n",
       "      <td>http://trekkinn.com</td>\n",
       "      <td>_dc_gtm_UA-139250610-1</td>\n",
       "      <td>.trekkinn.com</td>\n",
       "      <td>Advertising</td>\n",
       "      <td>This is an advertising cookie from tradeinn. T...</td>\n",
       "    </tr>\n",
       "    <tr>\n",
       "      <th>475877</th>\n",
       "      <td>http://purplle.com</td>\n",
       "      <td>g_state</td>\n",
       "      <td>.purplle.com</td>\n",
       "      <td>Advertising</td>\n",
       "      <td>This is an advertising cookie from Booking.com...</td>\n",
       "    </tr>\n",
       "    <tr>\n",
       "      <th>475984</th>\n",
       "      <td>http://gransharing.be</td>\n",
       "      <td>language-preference</td>\n",
       "      <td>.zalando.be</td>\n",
       "      <td>Advertising</td>\n",
       "      <td>This is an advertising cookie from alando.de. ...</td>\n",
       "    </tr>\n",
       "    <tr>\n",
       "      <th>476030</th>\n",
       "      <td>http://arabalears.cat</td>\n",
       "      <td>kng_aflow</td>\n",
       "      <td>.arabalears.cat</td>\n",
       "      <td>Advertising</td>\n",
       "      <td>kng_aflow is an Advertising cookie from rtve</td>\n",
       "    </tr>\n",
       "    <tr>\n",
       "      <th>476047</th>\n",
       "      <td>http://weismannweb.com</td>\n",
       "      <td>recorder.sid</td>\n",
       "      <td>recordings.weismannweb.com</td>\n",
       "      <td>Advertising</td>\n",
       "      <td>recorder.sid is an Advertising cookie from pte...</td>\n",
       "    </tr>\n",
       "    <tr>\n",
       "      <th>579970</th>\n",
       "      <td>alliancetrust.co.uk</td>\n",
       "      <td>itmeid_cookie</td>\n",
       "      <td>alliancetrust.co</td>\n",
       "      <td>Performance &amp; Functionality</td>\n",
       "      <td>Cookie from Mynotes.</td>\n",
       "    </tr>\n",
       "    <tr>\n",
       "      <th>579971</th>\n",
       "      <td>alliancetrust.co.uk</td>\n",
       "      <td>cookieCollection</td>\n",
       "      <td>alliancetrust.co</td>\n",
       "      <td>Performance &amp; Functionality</td>\n",
       "      <td>Cookie from Mynotes.</td>\n",
       "    </tr>\n",
       "    <tr>\n",
       "      <th>579972</th>\n",
       "      <td>alliancetrust.co.uk</td>\n",
       "      <td>myNotesCounter</td>\n",
       "      <td>alliancetrust.co</td>\n",
       "      <td>Performance &amp; Functionality</td>\n",
       "      <td>Cookie from Mynotes.</td>\n",
       "    </tr>\n",
       "    <tr>\n",
       "      <th>579973</th>\n",
       "      <td>alliancetrust.co.uk</td>\n",
       "      <td>pdfPages</td>\n",
       "      <td>alliancetrust.co</td>\n",
       "      <td>Performance &amp; Functionality</td>\n",
       "      <td>Cookie from PDF Basket – 2 Items added Separat...</td>\n",
       "    </tr>\n",
       "    <tr>\n",
       "      <th>579974</th>\n",
       "      <td>alliancetrust.co.uk</td>\n",
       "      <td>PreviewPages</td>\n",
       "      <td>alliancetrust.co</td>\n",
       "      <td>Performance &amp; Functionality</td>\n",
       "      <td>Cookie from PDF Basket.</td>\n",
       "    </tr>\n",
       "    <tr>\n",
       "      <th>579975</th>\n",
       "      <td>alliancetrust.co.uk</td>\n",
       "      <td>selectedTab</td>\n",
       "      <td>alliancetrust.co</td>\n",
       "      <td>Performance &amp; Functionality</td>\n",
       "      <td>Cookie from Mynotes.</td>\n",
       "    </tr>\n",
       "  </tbody>\n",
       "</table>\n",
       "</div>"
      ],
      "text/plain": [
       "                             host             cookie_name  \\\n",
       "474998  http://www.scubastore.com               num_items   \n",
       "474999  http://www.scubastore.com                id_cesta   \n",
       "475000  http://www.scubastore.com            mail_cliente   \n",
       "475001  http://www.scubastore.com            googleuserid   \n",
       "475003  http://www.scubastore.com           barra_cookies   \n",
       "475004  http://www.scubastore.com                 id_pais   \n",
       "475005  http://www.scubastore.com               id_tienda   \n",
       "475006  http://www.scubastore.com                gclid_ds   \n",
       "475007  http://www.scubastore.com           change_domain   \n",
       "475342           http://mimio.com     geot_rocket_country   \n",
       "475343           http://mimio.com        geot_rocket_city   \n",
       "475505    http://www.3dmatrix.com       geot_rocket_state   \n",
       "475516           http://merlin.pl                      cq   \n",
       "475753        http://trekkinn.com   _dc_gtm_UA-17685316-2   \n",
       "475754        http://trekkinn.com  _dc_gtm_UA-139250610-1   \n",
       "475877         http://purplle.com                 g_state   \n",
       "475984      http://gransharing.be     language-preference   \n",
       "476030      http://arabalears.cat               kng_aflow   \n",
       "476047     http://weismannweb.com            recorder.sid   \n",
       "579970        alliancetrust.co.uk           itmeid_cookie   \n",
       "579971        alliancetrust.co.uk        cookieCollection   \n",
       "579972        alliancetrust.co.uk          myNotesCounter   \n",
       "579973        alliancetrust.co.uk                pdfPages   \n",
       "579974        alliancetrust.co.uk            PreviewPages   \n",
       "579975        alliancetrust.co.uk             selectedTab   \n",
       "\n",
       "                       cookie_host                     category  \\\n",
       "474998          www.scubastore.com                  Advertising   \n",
       "474999          www.scubastore.com                  Advertising   \n",
       "475000          www.scubastore.com                  Advertising   \n",
       "475001          www.scubastore.com                  Advertising   \n",
       "475003          www.scubastore.com                  Advertising   \n",
       "475004          www.scubastore.com                  Advertising   \n",
       "475005          www.scubastore.com                  Advertising   \n",
       "475006          www.scubastore.com                  Advertising   \n",
       "475007          www.scubastore.com                  Advertising   \n",
       "475342          mimio.boxlight.com                  Advertising   \n",
       "475343          mimio.boxlight.com                  Advertising   \n",
       "475505            www.3dmatrix.com                  Advertising   \n",
       "475516                   merlin.pl                  Advertising   \n",
       "475753               .trekkinn.com                  Advertising   \n",
       "475754               .trekkinn.com                  Advertising   \n",
       "475877                .purplle.com                  Advertising   \n",
       "475984                 .zalando.be                  Advertising   \n",
       "476030             .arabalears.cat                  Advertising   \n",
       "476047  recordings.weismannweb.com                  Advertising   \n",
       "579970            alliancetrust.co  Performance & Functionality   \n",
       "579971            alliancetrust.co  Performance & Functionality   \n",
       "579972            alliancetrust.co  Performance & Functionality   \n",
       "579973            alliancetrust.co  Performance & Functionality   \n",
       "579974            alliancetrust.co  Performance & Functionality   \n",
       "579975            alliancetrust.co  Performance & Functionality   \n",
       "\n",
       "                                              description  \n",
       "474998  This is an advertising cookie from tradeinn. T...  \n",
       "474999  This is an advertising cookie from tradeinn. T...  \n",
       "475000  This is an advertising cookie from tradeinn. T...  \n",
       "475001  This is an advertising cookie from tradeinn. T...  \n",
       "475003  This is an advertising cookie from tradeinn. T...  \n",
       "475004     id_pais is an Advertising cookie from dressinn  \n",
       "475005   id_tienda is an Advertising cookie from dressinn  \n",
       "475006  This is an advertising cookie from tradeinn. T...  \n",
       "475007  This is an advertising cookie from tradeinn. T...  \n",
       "475342  geot_rocket_country is an Advertising cookie f...  \n",
       "475343  geot_rocket_city is an Advertising cookie from...  \n",
       "475505  geot_rocket_state is an Advertising cookie fro...  \n",
       "475516  This is an advertising cookie from Tmall.com. ...  \n",
       "475753  This is an advertising cookie from tradeinn. T...  \n",
       "475754  This is an advertising cookie from tradeinn. T...  \n",
       "475877  This is an advertising cookie from Booking.com...  \n",
       "475984  This is an advertising cookie from alando.de. ...  \n",
       "476030       kng_aflow is an Advertising cookie from rtve  \n",
       "476047  recorder.sid is an Advertising cookie from pte...  \n",
       "579970                               Cookie from Mynotes.  \n",
       "579971                               Cookie from Mynotes.  \n",
       "579972                               Cookie from Mynotes.  \n",
       "579973  Cookie from PDF Basket – 2 Items added Separat...  \n",
       "579974                            Cookie from PDF Basket.  \n",
       "579975                               Cookie from Mynotes.  "
      ]
     },
     "execution_count": 63,
     "metadata": {},
     "output_type": "execute_result"
    }
   ],
   "source": [
    "res4.tail(25)"
   ]
  },
  {
   "cell_type": "code",
   "execution_count": 31,
   "metadata": {},
   "outputs": [
    {
     "data": {
      "text/plain": [
       "0"
      ]
     },
     "execution_count": 31,
     "metadata": {},
     "output_type": "execute_result"
    }
   ],
   "source": [
    "#purpose and cat mismatch\n",
    "res5=foundri_data[(foundri_data[\"category\"]=='Unknown') & (foundri_data[\"description\"].str.len()>70) ]\n",
    "\n",
    "\n",
    "len(res5)\n",
    "\n"
   ]
  },
  {
   "cell_type": "code",
   "execution_count": 25,
   "metadata": {},
   "outputs": [
    {
     "data": {
      "text/plain": [
       "Series([], Name: description, dtype: object)"
      ]
     },
     "execution_count": 25,
     "metadata": {},
     "output_type": "execute_result"
    }
   ],
   "source": [
    "res5.description.head(25)"
   ]
  },
  {
   "cell_type": "code",
   "execution_count": 26,
   "metadata": {},
   "outputs": [],
   "source": [
    "res5=res5[['host', 'cookie_name', 'cookie_host','category','description']]\n",
    "res5.to_csv('case4.csv',index=False)"
   ]
  },
  {
   "cell_type": "markdown",
   "metadata": {},
   "source": [
    "# check duplication"
   ]
  },
  {
   "cell_type": "code",
   "execution_count": 67,
   "metadata": {},
   "outputs": [],
   "source": [
    "foundri_data['cookie_name'] = foundri_data['cookie_name'].apply(str)\n",
    "foundri_data['cookie_name'] = foundri_data['cookie_name'].str.strip()\n",
    "foundri_data = foundri_data.replace(np.nan, '', regex=True)"
   ]
  },
  {
   "cell_type": "code",
   "execution_count": 68,
   "metadata": {},
   "outputs": [],
   "source": [
    "dup_res = foundri_data[(foundri_data[foundri_data.columns].duplicated()==True) \n",
    "                       ]"
   ]
  },
  {
   "cell_type": "code",
   "execution_count": 69,
   "metadata": {},
   "outputs": [
    {
     "data": {
      "text/html": [
       "<div>\n",
       "<style scoped>\n",
       "    .dataframe tbody tr th:only-of-type {\n",
       "        vertical-align: middle;\n",
       "    }\n",
       "\n",
       "    .dataframe tbody tr th {\n",
       "        vertical-align: top;\n",
       "    }\n",
       "\n",
       "    .dataframe thead th {\n",
       "        text-align: right;\n",
       "    }\n",
       "</style>\n",
       "<table border=\"1\" class=\"dataframe\">\n",
       "  <thead>\n",
       "    <tr style=\"text-align: right;\">\n",
       "      <th></th>\n",
       "      <th>site_name</th>\n",
       "      <th>host</th>\n",
       "      <th>cookie_name</th>\n",
       "      <th>cookie_host</th>\n",
       "      <th>is_first_party</th>\n",
       "      <th>path</th>\n",
       "      <th>expiry</th>\n",
       "      <th>category</th>\n",
       "      <th>is_http_only</th>\n",
       "      <th>is_session_cookie</th>\n",
       "      <th>...</th>\n",
       "      <th>description</th>\n",
       "      <th>data_location</th>\n",
       "      <th>source_url</th>\n",
       "      <th>type</th>\n",
       "      <th>subcategory</th>\n",
       "      <th>is_regex</th>\n",
       "      <th>country</th>\n",
       "      <th>service</th>\n",
       "      <th>policy_url</th>\n",
       "      <th>display_name</th>\n",
       "    </tr>\n",
       "  </thead>\n",
       "  <tbody>\n",
       "  </tbody>\n",
       "</table>\n",
       "<p>0 rows × 21 columns</p>\n",
       "</div>"
      ],
      "text/plain": [
       "Empty DataFrame\n",
       "Columns: [site_name, host, cookie_name, cookie_host, is_first_party, path, expiry, category, is_http_only, is_session_cookie, is_secure, description, data_location, source_url, type, subcategory, is_regex, country, service, policy_url, display_name]\n",
       "Index: []\n",
       "\n",
       "[0 rows x 21 columns]"
      ]
     },
     "execution_count": 69,
     "metadata": {},
     "output_type": "execute_result"
    }
   ],
   "source": [
    "dup_res.head(2)"
   ]
  },
  {
   "cell_type": "code",
   "execution_count": 70,
   "metadata": {},
   "outputs": [
    {
     "data": {
      "text/plain": [
       "(0, 21)"
      ]
     },
     "execution_count": 70,
     "metadata": {},
     "output_type": "execute_result"
    }
   ],
   "source": [
    "dup_res.shape"
   ]
  },
  {
   "cell_type": "code",
   "execution_count": 71,
   "metadata": {},
   "outputs": [
    {
     "data": {
      "text/plain": [
       "(0, 21)"
      ]
     },
     "execution_count": 71,
     "metadata": {},
     "output_type": "execute_result"
    }
   ],
   "source": [
    "dup_res.shape"
   ]
  },
  {
   "cell_type": "code",
   "execution_count": 72,
   "metadata": {},
   "outputs": [
    {
     "data": {
      "text/plain": [
       "0"
      ]
     },
     "execution_count": 72,
     "metadata": {},
     "output_type": "execute_result"
    }
   ],
   "source": [
    "li = dup_res.values.tolist()\n",
    "len(li)"
   ]
  },
  {
   "cell_type": "code",
   "execution_count": 76,
   "metadata": {},
   "outputs": [
    {
     "ename": "IndexError",
     "evalue": "list index out of range",
     "output_type": "error",
     "traceback": [
      "\u001b[0;31m---------------------------------------------------------------------------\u001b[0m",
      "\u001b[0;31mIndexError\u001b[0m                                Traceback (most recent call last)",
      "\u001b[0;32m<ipython-input-76-d8d39608afdb>\u001b[0m in \u001b[0;36m<module>\u001b[0;34m\u001b[0m\n\u001b[0;32m----> 1\u001b[0;31m \u001b[0mli\u001b[0m\u001b[0;34m[\u001b[0m\u001b[0;36m0\u001b[0m\u001b[0;34m]\u001b[0m\u001b[0;34m\u001b[0m\u001b[0;34m\u001b[0m\u001b[0m\n\u001b[0m",
      "\u001b[0;31mIndexError\u001b[0m: list index out of range"
     ]
    }
   ],
   "source": [
    "li[0]"
   ]
  },
  {
   "cell_type": "code",
   "execution_count": 77,
   "metadata": {},
   "outputs": [
    {
     "data": {
      "text/plain": [
       "set()"
      ]
     },
     "execution_count": 77,
     "metadata": {},
     "output_type": "execute_result"
    }
   ],
   "source": [
    "set(li)"
   ]
  },
  {
   "cell_type": "code",
   "execution_count": 78,
   "metadata": {},
   "outputs": [],
   "source": [
    "dup_res.to_csv('duplicate3.csv',index=False)"
   ]
  },
  {
   "cell_type": "code",
   "execution_count": 87,
   "metadata": {},
   "outputs": [],
   "source": [
    "new_df_list=[\n",
    "    ['Cookie_Categiry','Cookie_Purpose'],\n",
    "    ['Advertising',' This is an advertising cookie '],\n",
    "    ['Advertising','this is an advertising cookie']\n",
    "]"
   ]
  },
  {
   "cell_type": "code",
   "execution_count": 88,
   "metadata": {},
   "outputs": [],
   "source": [
    "new_df_dict= [\n",
    "    {'Cookie_Categiry': 'Advertising','Cookie_Purpose': ' This is an advertising cookie '},\n",
    "    {'Cookie_Categiry': 'Advertising','Cookie_Purpose':'this is an advertising cookie'}\n",
    "]"
   ]
  },
  {
   "cell_type": "code",
   "execution_count": 92,
   "metadata": {},
   "outputs": [],
   "source": [
    "df_dict=pd.DataFrame(new_df_dict)\n",
    "df_list=pd.DataFrame(new_df_list[1:],columns=new_df_list[0])"
   ]
  },
  {
   "cell_type": "code",
   "execution_count": 90,
   "metadata": {},
   "outputs": [
    {
     "data": {
      "text/html": [
       "<div>\n",
       "<style scoped>\n",
       "    .dataframe tbody tr th:only-of-type {\n",
       "        vertical-align: middle;\n",
       "    }\n",
       "\n",
       "    .dataframe tbody tr th {\n",
       "        vertical-align: top;\n",
       "    }\n",
       "\n",
       "    .dataframe thead th {\n",
       "        text-align: right;\n",
       "    }\n",
       "</style>\n",
       "<table border=\"1\" class=\"dataframe\">\n",
       "  <thead>\n",
       "    <tr style=\"text-align: right;\">\n",
       "      <th></th>\n",
       "      <th>Cookie_Categiry</th>\n",
       "      <th>Cookie_Purpose</th>\n",
       "    </tr>\n",
       "  </thead>\n",
       "  <tbody>\n",
       "    <tr>\n",
       "      <th>0</th>\n",
       "      <td>Advertising</td>\n",
       "      <td>This is an advertising cookie</td>\n",
       "    </tr>\n",
       "    <tr>\n",
       "      <th>1</th>\n",
       "      <td>Advertising</td>\n",
       "      <td>this is an advertising cookie</td>\n",
       "    </tr>\n",
       "  </tbody>\n",
       "</table>\n",
       "</div>"
      ],
      "text/plain": [
       "  Cookie_Categiry                   Cookie_Purpose\n",
       "0     Advertising   This is an advertising cookie \n",
       "1     Advertising    this is an advertising cookie"
      ]
     },
     "execution_count": 90,
     "metadata": {},
     "output_type": "execute_result"
    }
   ],
   "source": [
    "df_dict"
   ]
  },
  {
   "cell_type": "code",
   "execution_count": 93,
   "metadata": {},
   "outputs": [
    {
     "data": {
      "text/html": [
       "<div>\n",
       "<style scoped>\n",
       "    .dataframe tbody tr th:only-of-type {\n",
       "        vertical-align: middle;\n",
       "    }\n",
       "\n",
       "    .dataframe tbody tr th {\n",
       "        vertical-align: top;\n",
       "    }\n",
       "\n",
       "    .dataframe thead th {\n",
       "        text-align: right;\n",
       "    }\n",
       "</style>\n",
       "<table border=\"1\" class=\"dataframe\">\n",
       "  <thead>\n",
       "    <tr style=\"text-align: right;\">\n",
       "      <th></th>\n",
       "      <th>Cookie_Categiry</th>\n",
       "      <th>Cookie_Purpose</th>\n",
       "    </tr>\n",
       "  </thead>\n",
       "  <tbody>\n",
       "    <tr>\n",
       "      <th>0</th>\n",
       "      <td>Advertising</td>\n",
       "      <td>This is an advertising cookie</td>\n",
       "    </tr>\n",
       "    <tr>\n",
       "      <th>1</th>\n",
       "      <td>Advertising</td>\n",
       "      <td>this is an advertising cookie</td>\n",
       "    </tr>\n",
       "  </tbody>\n",
       "</table>\n",
       "</div>"
      ],
      "text/plain": [
       "  Cookie_Categiry                   Cookie_Purpose\n",
       "0     Advertising   This is an advertising cookie \n",
       "1     Advertising    this is an advertising cookie"
      ]
     },
     "execution_count": 93,
     "metadata": {},
     "output_type": "execute_result"
    }
   ],
   "source": [
    "df_list"
   ]
  },
  {
   "cell_type": "code",
   "execution_count": 70,
   "metadata": {},
   "outputs": [],
   "source": [
    "\n",
    "new_df_dict= [\n",
    "    {'Cookie_Categiry': 'Advertising','Cookie_Purpose': ' This is an advertising cookie '},\n",
    "    {'Cookie_Categiry': 'Advertising','Cookie_Purpose':'this is an advertising cookie'}\n",
    "]\n",
    "df_dict=pd.DataFrame(new_df_dict)\n"
   ]
  },
  {
   "cell_type": "code",
   "execution_count": 72,
   "metadata": {},
   "outputs": [],
   "source": [
    "\n",
    "\n",
    "df_dict['Cookie_Categiry'] = df_dict['Cookie_Categiry'].map({'Advertising':''})"
   ]
  },
  {
   "cell_type": "code",
   "execution_count": 75,
   "metadata": {},
   "outputs": [],
   "source": [
    "df_dict.to_csv('checkkk.csv',index=False)"
   ]
  },
  {
   "cell_type": "code",
   "execution_count": 20,
   "metadata": {},
   "outputs": [],
   "source": [
    "df = pd.DataFrame({'A': [0, 1, 2, 3, 4],\n",
    "                   'B': [5, 6, 7, 8, 9],\n",
    "                   'C': ['a', 'b', 'c', 'd', 'e']})"
   ]
  },
  {
   "cell_type": "code",
   "execution_count": 21,
   "metadata": {},
   "outputs": [
    {
     "data": {
      "text/html": [
       "<div>\n",
       "<style scoped>\n",
       "    .dataframe tbody tr th:only-of-type {\n",
       "        vertical-align: middle;\n",
       "    }\n",
       "\n",
       "    .dataframe tbody tr th {\n",
       "        vertical-align: top;\n",
       "    }\n",
       "\n",
       "    .dataframe thead th {\n",
       "        text-align: right;\n",
       "    }\n",
       "</style>\n",
       "<table border=\"1\" class=\"dataframe\">\n",
       "  <thead>\n",
       "    <tr style=\"text-align: right;\">\n",
       "      <th></th>\n",
       "      <th>A</th>\n",
       "      <th>B</th>\n",
       "      <th>C</th>\n",
       "    </tr>\n",
       "  </thead>\n",
       "  <tbody>\n",
       "    <tr>\n",
       "      <th>0</th>\n",
       "      <td>0</td>\n",
       "      <td>5</td>\n",
       "      <td>a</td>\n",
       "    </tr>\n",
       "    <tr>\n",
       "      <th>1</th>\n",
       "      <td>1</td>\n",
       "      <td>6</td>\n",
       "      <td>b</td>\n",
       "    </tr>\n",
       "    <tr>\n",
       "      <th>2</th>\n",
       "      <td>2</td>\n",
       "      <td>7</td>\n",
       "      <td>c</td>\n",
       "    </tr>\n",
       "    <tr>\n",
       "      <th>3</th>\n",
       "      <td>3</td>\n",
       "      <td>8</td>\n",
       "      <td>d</td>\n",
       "    </tr>\n",
       "    <tr>\n",
       "      <th>4</th>\n",
       "      <td>4</td>\n",
       "      <td>9</td>\n",
       "      <td>e</td>\n",
       "    </tr>\n",
       "  </tbody>\n",
       "</table>\n",
       "</div>"
      ],
      "text/plain": [
       "   A  B  C\n",
       "0  0  5  a\n",
       "1  1  6  b\n",
       "2  2  7  c\n",
       "3  3  8  d\n",
       "4  4  9  e"
      ]
     },
     "execution_count": 21,
     "metadata": {},
     "output_type": "execute_result"
    }
   ],
   "source": [
    "df"
   ]
  },
  {
   "cell_type": "code",
   "execution_count": 39,
   "metadata": {},
   "outputs": [],
   "source": [
    "df['B']=df['B'].replace(6,'')"
   ]
  },
  {
   "cell_type": "code",
   "execution_count": 41,
   "metadata": {},
   "outputs": [],
   "source": [
    "df.to_csv('check_it.csv')"
   ]
  },
  {
   "cell_type": "code",
   "execution_count": 42,
   "metadata": {},
   "outputs": [
    {
     "data": {
      "text/html": [
       "<div>\n",
       "<style scoped>\n",
       "    .dataframe tbody tr th:only-of-type {\n",
       "        vertical-align: middle;\n",
       "    }\n",
       "\n",
       "    .dataframe tbody tr th {\n",
       "        vertical-align: top;\n",
       "    }\n",
       "\n",
       "    .dataframe thead th {\n",
       "        text-align: right;\n",
       "    }\n",
       "</style>\n",
       "<table border=\"1\" class=\"dataframe\">\n",
       "  <thead>\n",
       "    <tr style=\"text-align: right;\">\n",
       "      <th></th>\n",
       "      <th>A</th>\n",
       "      <th>B</th>\n",
       "      <th>C</th>\n",
       "    </tr>\n",
       "  </thead>\n",
       "  <tbody>\n",
       "    <tr>\n",
       "      <th>0</th>\n",
       "      <td>100</td>\n",
       "      <td>5</td>\n",
       "      <td>A</td>\n",
       "    </tr>\n",
       "    <tr>\n",
       "      <th>1</th>\n",
       "      <td>1</td>\n",
       "      <td></td>\n",
       "      <td>B</td>\n",
       "    </tr>\n",
       "    <tr>\n",
       "      <th>2</th>\n",
       "      <td>2</td>\n",
       "      <td>7</td>\n",
       "      <td>c</td>\n",
       "    </tr>\n",
       "    <tr>\n",
       "      <th>3</th>\n",
       "      <td>3</td>\n",
       "      <td>8</td>\n",
       "      <td>d</td>\n",
       "    </tr>\n",
       "    <tr>\n",
       "      <th>4</th>\n",
       "      <td>4</td>\n",
       "      <td>9</td>\n",
       "      <td>e</td>\n",
       "    </tr>\n",
       "  </tbody>\n",
       "</table>\n",
       "</div>"
      ],
      "text/plain": [
       "     A  B  C\n",
       "0  100  5  A\n",
       "1    1     B\n",
       "2    2  7  c\n",
       "3    3  8  d\n",
       "4    4  9  e"
      ]
     },
     "execution_count": 42,
     "metadata": {},
     "output_type": "execute_result"
    }
   ],
   "source": [
    "df"
   ]
  },
  {
   "cell_type": "code",
   "execution_count": null,
   "metadata": {},
   "outputs": [],
   "source": []
  }
 ],
 "metadata": {
  "kernelspec": {
   "display_name": "Python 3",
   "language": "python",
   "name": "python3"
  },
  "language_info": {
   "codemirror_mode": {
    "name": "ipython",
    "version": 3
   },
   "file_extension": ".py",
   "mimetype": "text/x-python",
   "name": "python",
   "nbconvert_exporter": "python",
   "pygments_lexer": "ipython3",
   "version": "3.8.5"
  }
 },
 "nbformat": 4,
 "nbformat_minor": 4
}
